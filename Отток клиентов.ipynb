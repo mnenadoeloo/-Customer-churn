{
 "cells": [
  {
   "cell_type": "markdown",
   "metadata": {
    "toc": true
   },
   "source": [
    "<h1>Содержание<span class=\"tocSkip\"></span></h1>\n",
    "<div class=\"toc\"><ul class=\"toc-item\"><li><span><a href=\"#Подготовка-данных\" data-toc-modified-id=\"Подготовка-данных-1\"><span class=\"toc-item-num\">1&nbsp;&nbsp;</span>Подготовка данных</a></span><ul class=\"toc-item\"><li><span><a href=\"#Мини-вывод\" data-toc-modified-id=\"Мини-вывод-1.1\"><span class=\"toc-item-num\">1.1&nbsp;&nbsp;</span>Мини-вывод</a></span></li></ul></li><li><span><a href=\"#Исследование-задачи\" data-toc-modified-id=\"Исследование-задачи-2\"><span class=\"toc-item-num\">2&nbsp;&nbsp;</span>Исследование задачи</a></span><ul class=\"toc-item\"><li><span><a href=\"#Мини-вывод\" data-toc-modified-id=\"Мини-вывод-2.1\"><span class=\"toc-item-num\">2.1&nbsp;&nbsp;</span>Мини-вывод</a></span></li></ul></li><li><span><a href=\"#Борьба-с-дисбалансом\" data-toc-modified-id=\"Борьба-с-дисбалансом-3\"><span class=\"toc-item-num\">3&nbsp;&nbsp;</span>Борьба с дисбалансом</a></span><ul class=\"toc-item\"><li><span><a href=\"#Мини-вывод\" data-toc-modified-id=\"Мини-вывод-3.1\"><span class=\"toc-item-num\">3.1&nbsp;&nbsp;</span>Мини-вывод</a></span></li></ul></li><li><span><a href=\"#Тестирование-модели\" data-toc-modified-id=\"Тестирование-модели-4\"><span class=\"toc-item-num\">4&nbsp;&nbsp;</span>Тестирование модели</a></span></li></ul></div>"
   ]
  },
  {
   "cell_type": "markdown",
   "metadata": {},
   "source": [
    "# Отток клиентов"
   ]
  },
  {
   "cell_type": "markdown",
   "metadata": {},
   "source": [
    "Из «Бета-Банка» стали уходить клиенты. Каждый месяц. Немного, но заметно. Банковские маркетологи посчитали: сохранять текущих клиентов дешевле, чем привлекать новых.\n",
    "\n",
    "Нужно спрогнозировать, уйдёт клиент из банка в ближайшее время или нет. Вам предоставлены исторические данные о поведении клиентов и расторжении договоров с банком. \n",
    "\n",
    "Постройте модель с предельно большим значением *F1*-меры. Чтобы сдать проект успешно, нужно довести метрику до 0.59. Проверьте *F1*-меру на тестовой выборке самостоятельно.\n",
    "\n",
    "Дополнительно измеряйте *AUC-ROC*, сравнивайте её значение с *F1*-мерой.\n",
    "\n",
    "Источник данных: [https://www.kaggle.com/barelydedicated/bank-customer-churn-modeling](https://www.kaggle.com/barelydedicated/bank-customer-churn-modeling)"
   ]
  },
  {
   "cell_type": "markdown",
   "metadata": {},
   "source": [
    "## Подготовка данных"
   ]
  },
  {
   "cell_type": "code",
   "execution_count": 98,
   "metadata": {},
   "outputs": [],
   "source": [
    "import pandas as pd\n",
    "from sklearn.model_selection import train_test_split\n",
    "import numpy as np\n",
    "import matplotlib.pyplot as plt\n",
    "from sklearn.preprocessing import StandardScaler\n",
    "from sklearn.linear_model import LogisticRegression\n",
    "from sklearn.tree import DecisionTreeClassifier\n",
    "from sklearn.ensemble import RandomForestClassifier\n",
    "from sklearn.metrics import confusion_matrix\n",
    "from sklearn.metrics import recall_score\n",
    "from sklearn.metrics import precision_score\n",
    "from sklearn.utils import shuffle\n",
    "from sklearn.metrics import mean_squared_error\n",
    "from sklearn.metrics import roc_curve \n",
    "from sklearn.metrics import f1_score\n",
    "from sklearn.metrics import roc_auc_score\n",
    "import warnings\n",
    "warnings.filterwarnings('ignore')\n",
    "pd.set_option('display.max_columns', None)"
   ]
  },
  {
   "cell_type": "code",
   "execution_count": 99,
   "metadata": {},
   "outputs": [],
   "source": [
    "df = pd.read_csv('/datasets/Churn.csv')"
   ]
  },
  {
   "cell_type": "code",
   "execution_count": 100,
   "metadata": {},
   "outputs": [
    {
     "data": {
      "text/html": [
       "<div>\n",
       "<style scoped>\n",
       "    .dataframe tbody tr th:only-of-type {\n",
       "        vertical-align: middle;\n",
       "    }\n",
       "\n",
       "    .dataframe tbody tr th {\n",
       "        vertical-align: top;\n",
       "    }\n",
       "\n",
       "    .dataframe thead th {\n",
       "        text-align: right;\n",
       "    }\n",
       "</style>\n",
       "<table border=\"1\" class=\"dataframe\">\n",
       "  <thead>\n",
       "    <tr style=\"text-align: right;\">\n",
       "      <th></th>\n",
       "      <th>RowNumber</th>\n",
       "      <th>CustomerId</th>\n",
       "      <th>Surname</th>\n",
       "      <th>CreditScore</th>\n",
       "      <th>Geography</th>\n",
       "      <th>Gender</th>\n",
       "      <th>Age</th>\n",
       "      <th>Tenure</th>\n",
       "      <th>Balance</th>\n",
       "      <th>NumOfProducts</th>\n",
       "      <th>HasCrCard</th>\n",
       "      <th>IsActiveMember</th>\n",
       "      <th>EstimatedSalary</th>\n",
       "      <th>Exited</th>\n",
       "    </tr>\n",
       "  </thead>\n",
       "  <tbody>\n",
       "    <tr>\n",
       "      <th>0</th>\n",
       "      <td>1</td>\n",
       "      <td>15634602</td>\n",
       "      <td>Hargrave</td>\n",
       "      <td>619</td>\n",
       "      <td>France</td>\n",
       "      <td>Female</td>\n",
       "      <td>42</td>\n",
       "      <td>2.0</td>\n",
       "      <td>0.00</td>\n",
       "      <td>1</td>\n",
       "      <td>1</td>\n",
       "      <td>1</td>\n",
       "      <td>101348.88</td>\n",
       "      <td>1</td>\n",
       "    </tr>\n",
       "    <tr>\n",
       "      <th>1</th>\n",
       "      <td>2</td>\n",
       "      <td>15647311</td>\n",
       "      <td>Hill</td>\n",
       "      <td>608</td>\n",
       "      <td>Spain</td>\n",
       "      <td>Female</td>\n",
       "      <td>41</td>\n",
       "      <td>1.0</td>\n",
       "      <td>83807.86</td>\n",
       "      <td>1</td>\n",
       "      <td>0</td>\n",
       "      <td>1</td>\n",
       "      <td>112542.58</td>\n",
       "      <td>0</td>\n",
       "    </tr>\n",
       "    <tr>\n",
       "      <th>2</th>\n",
       "      <td>3</td>\n",
       "      <td>15619304</td>\n",
       "      <td>Onio</td>\n",
       "      <td>502</td>\n",
       "      <td>France</td>\n",
       "      <td>Female</td>\n",
       "      <td>42</td>\n",
       "      <td>8.0</td>\n",
       "      <td>159660.80</td>\n",
       "      <td>3</td>\n",
       "      <td>1</td>\n",
       "      <td>0</td>\n",
       "      <td>113931.57</td>\n",
       "      <td>1</td>\n",
       "    </tr>\n",
       "    <tr>\n",
       "      <th>3</th>\n",
       "      <td>4</td>\n",
       "      <td>15701354</td>\n",
       "      <td>Boni</td>\n",
       "      <td>699</td>\n",
       "      <td>France</td>\n",
       "      <td>Female</td>\n",
       "      <td>39</td>\n",
       "      <td>1.0</td>\n",
       "      <td>0.00</td>\n",
       "      <td>2</td>\n",
       "      <td>0</td>\n",
       "      <td>0</td>\n",
       "      <td>93826.63</td>\n",
       "      <td>0</td>\n",
       "    </tr>\n",
       "    <tr>\n",
       "      <th>4</th>\n",
       "      <td>5</td>\n",
       "      <td>15737888</td>\n",
       "      <td>Mitchell</td>\n",
       "      <td>850</td>\n",
       "      <td>Spain</td>\n",
       "      <td>Female</td>\n",
       "      <td>43</td>\n",
       "      <td>2.0</td>\n",
       "      <td>125510.82</td>\n",
       "      <td>1</td>\n",
       "      <td>1</td>\n",
       "      <td>1</td>\n",
       "      <td>79084.10</td>\n",
       "      <td>0</td>\n",
       "    </tr>\n",
       "  </tbody>\n",
       "</table>\n",
       "</div>"
      ],
      "text/plain": [
       "   RowNumber  CustomerId   Surname  CreditScore Geography  Gender  Age  \\\n",
       "0          1    15634602  Hargrave          619    France  Female   42   \n",
       "1          2    15647311      Hill          608     Spain  Female   41   \n",
       "2          3    15619304      Onio          502    France  Female   42   \n",
       "3          4    15701354      Boni          699    France  Female   39   \n",
       "4          5    15737888  Mitchell          850     Spain  Female   43   \n",
       "\n",
       "   Tenure    Balance  NumOfProducts  HasCrCard  IsActiveMember  \\\n",
       "0     2.0       0.00              1          1               1   \n",
       "1     1.0   83807.86              1          0               1   \n",
       "2     8.0  159660.80              3          1               0   \n",
       "3     1.0       0.00              2          0               0   \n",
       "4     2.0  125510.82              1          1               1   \n",
       "\n",
       "   EstimatedSalary  Exited  \n",
       "0        101348.88       1  \n",
       "1        112542.58       0  \n",
       "2        113931.57       1  \n",
       "3         93826.63       0  \n",
       "4         79084.10       0  "
      ]
     },
     "execution_count": 100,
     "metadata": {},
     "output_type": "execute_result"
    }
   ],
   "source": [
    "df.head()"
   ]
  },
  {
   "cell_type": "code",
   "execution_count": 101,
   "metadata": {},
   "outputs": [
    {
     "name": "stdout",
     "output_type": "stream",
     "text": [
      "<class 'pandas.core.frame.DataFrame'>\n",
      "RangeIndex: 10000 entries, 0 to 9999\n",
      "Data columns (total 14 columns):\n",
      " #   Column           Non-Null Count  Dtype  \n",
      "---  ------           --------------  -----  \n",
      " 0   RowNumber        10000 non-null  int64  \n",
      " 1   CustomerId       10000 non-null  int64  \n",
      " 2   Surname          10000 non-null  object \n",
      " 3   CreditScore      10000 non-null  int64  \n",
      " 4   Geography        10000 non-null  object \n",
      " 5   Gender           10000 non-null  object \n",
      " 6   Age              10000 non-null  int64  \n",
      " 7   Tenure           9091 non-null   float64\n",
      " 8   Balance          10000 non-null  float64\n",
      " 9   NumOfProducts    10000 non-null  int64  \n",
      " 10  HasCrCard        10000 non-null  int64  \n",
      " 11  IsActiveMember   10000 non-null  int64  \n",
      " 12  EstimatedSalary  10000 non-null  float64\n",
      " 13  Exited           10000 non-null  int64  \n",
      "dtypes: float64(3), int64(8), object(3)\n",
      "memory usage: 1.1+ MB\n"
     ]
    }
   ],
   "source": [
    "df.info()"
   ]
  },
  {
   "cell_type": "code",
   "execution_count": 102,
   "metadata": {},
   "outputs": [
    {
     "data": {
      "text/plain": [
       "RowNumber            0\n",
       "CustomerId           0\n",
       "Surname              0\n",
       "CreditScore          0\n",
       "Geography            0\n",
       "Gender               0\n",
       "Age                  0\n",
       "Tenure             909\n",
       "Balance              0\n",
       "NumOfProducts        0\n",
       "HasCrCard            0\n",
       "IsActiveMember       0\n",
       "EstimatedSalary      0\n",
       "Exited               0\n",
       "dtype: int64"
      ]
     },
     "execution_count": 102,
     "metadata": {},
     "output_type": "execute_result"
    }
   ],
   "source": [
    "df.isna().sum()"
   ]
  },
  {
   "cell_type": "code",
   "execution_count": 103,
   "metadata": {},
   "outputs": [
    {
     "data": {
      "text/plain": [
       "0"
      ]
     },
     "execution_count": 103,
     "metadata": {},
     "output_type": "execute_result"
    }
   ],
   "source": [
    "df.duplicated().sum()"
   ]
  },
  {
   "cell_type": "code",
   "execution_count": 104,
   "metadata": {},
   "outputs": [],
   "source": [
    "df.rename(columns={'RowNumber':'row_number', 'CustomerId':'customer_id', 'Surname':'surname', 'CreditScore':'credit_score', 'Geography':'geography',\n",
    "       'Gender':'gender', 'Age':'age', 'Tenure':'tenure', 'Balance':'balance', 'NumOfProducts':'num_of_products', 'HasCrCard':'has_cr_card',\n",
    "       'IsActiveMember':'is_active_member', 'EstimatedSalary':'estimated_salary', 'Exited':'exited'}, inplace=True)"
   ]
  },
  {
   "cell_type": "code",
   "execution_count": 105,
   "metadata": {},
   "outputs": [
    {
     "data": {
      "text/html": [
       "<div>\n",
       "<style scoped>\n",
       "    .dataframe tbody tr th:only-of-type {\n",
       "        vertical-align: middle;\n",
       "    }\n",
       "\n",
       "    .dataframe tbody tr th {\n",
       "        vertical-align: top;\n",
       "    }\n",
       "\n",
       "    .dataframe thead th {\n",
       "        text-align: right;\n",
       "    }\n",
       "</style>\n",
       "<table border=\"1\" class=\"dataframe\">\n",
       "  <thead>\n",
       "    <tr style=\"text-align: right;\">\n",
       "      <th></th>\n",
       "      <th>row_number</th>\n",
       "      <th>customer_id</th>\n",
       "      <th>surname</th>\n",
       "      <th>credit_score</th>\n",
       "      <th>geography</th>\n",
       "      <th>gender</th>\n",
       "      <th>age</th>\n",
       "      <th>tenure</th>\n",
       "      <th>balance</th>\n",
       "      <th>num_of_products</th>\n",
       "      <th>has_cr_card</th>\n",
       "      <th>is_active_member</th>\n",
       "      <th>estimated_salary</th>\n",
       "      <th>exited</th>\n",
       "    </tr>\n",
       "  </thead>\n",
       "  <tbody>\n",
       "    <tr>\n",
       "      <th>0</th>\n",
       "      <td>1</td>\n",
       "      <td>15634602</td>\n",
       "      <td>Hargrave</td>\n",
       "      <td>619</td>\n",
       "      <td>France</td>\n",
       "      <td>Female</td>\n",
       "      <td>42</td>\n",
       "      <td>2.0</td>\n",
       "      <td>0.00</td>\n",
       "      <td>1</td>\n",
       "      <td>1</td>\n",
       "      <td>1</td>\n",
       "      <td>101348.88</td>\n",
       "      <td>1</td>\n",
       "    </tr>\n",
       "    <tr>\n",
       "      <th>1</th>\n",
       "      <td>2</td>\n",
       "      <td>15647311</td>\n",
       "      <td>Hill</td>\n",
       "      <td>608</td>\n",
       "      <td>Spain</td>\n",
       "      <td>Female</td>\n",
       "      <td>41</td>\n",
       "      <td>1.0</td>\n",
       "      <td>83807.86</td>\n",
       "      <td>1</td>\n",
       "      <td>0</td>\n",
       "      <td>1</td>\n",
       "      <td>112542.58</td>\n",
       "      <td>0</td>\n",
       "    </tr>\n",
       "    <tr>\n",
       "      <th>2</th>\n",
       "      <td>3</td>\n",
       "      <td>15619304</td>\n",
       "      <td>Onio</td>\n",
       "      <td>502</td>\n",
       "      <td>France</td>\n",
       "      <td>Female</td>\n",
       "      <td>42</td>\n",
       "      <td>8.0</td>\n",
       "      <td>159660.80</td>\n",
       "      <td>3</td>\n",
       "      <td>1</td>\n",
       "      <td>0</td>\n",
       "      <td>113931.57</td>\n",
       "      <td>1</td>\n",
       "    </tr>\n",
       "    <tr>\n",
       "      <th>3</th>\n",
       "      <td>4</td>\n",
       "      <td>15701354</td>\n",
       "      <td>Boni</td>\n",
       "      <td>699</td>\n",
       "      <td>France</td>\n",
       "      <td>Female</td>\n",
       "      <td>39</td>\n",
       "      <td>1.0</td>\n",
       "      <td>0.00</td>\n",
       "      <td>2</td>\n",
       "      <td>0</td>\n",
       "      <td>0</td>\n",
       "      <td>93826.63</td>\n",
       "      <td>0</td>\n",
       "    </tr>\n",
       "    <tr>\n",
       "      <th>4</th>\n",
       "      <td>5</td>\n",
       "      <td>15737888</td>\n",
       "      <td>Mitchell</td>\n",
       "      <td>850</td>\n",
       "      <td>Spain</td>\n",
       "      <td>Female</td>\n",
       "      <td>43</td>\n",
       "      <td>2.0</td>\n",
       "      <td>125510.82</td>\n",
       "      <td>1</td>\n",
       "      <td>1</td>\n",
       "      <td>1</td>\n",
       "      <td>79084.10</td>\n",
       "      <td>0</td>\n",
       "    </tr>\n",
       "  </tbody>\n",
       "</table>\n",
       "</div>"
      ],
      "text/plain": [
       "   row_number  customer_id   surname  credit_score geography  gender  age  \\\n",
       "0           1     15634602  Hargrave           619    France  Female   42   \n",
       "1           2     15647311      Hill           608     Spain  Female   41   \n",
       "2           3     15619304      Onio           502    France  Female   42   \n",
       "3           4     15701354      Boni           699    France  Female   39   \n",
       "4           5     15737888  Mitchell           850     Spain  Female   43   \n",
       "\n",
       "   tenure    balance  num_of_products  has_cr_card  is_active_member  \\\n",
       "0     2.0       0.00                1            1                 1   \n",
       "1     1.0   83807.86                1            0                 1   \n",
       "2     8.0  159660.80                3            1                 0   \n",
       "3     1.0       0.00                2            0                 0   \n",
       "4     2.0  125510.82                1            1                 1   \n",
       "\n",
       "   estimated_salary  exited  \n",
       "0         101348.88       1  \n",
       "1         112542.58       0  \n",
       "2         113931.57       1  \n",
       "3          93826.63       0  \n",
       "4          79084.10       0  "
      ]
     },
     "execution_count": 105,
     "metadata": {},
     "output_type": "execute_result"
    }
   ],
   "source": [
    "df.head()"
   ]
  },
  {
   "cell_type": "code",
   "execution_count": 106,
   "metadata": {},
   "outputs": [],
   "source": [
    "df.dropna(subset=['tenure'], inplace=True)\n",
    "df['tenure'] = df['tenure'].astype('int64')\n",
    "df = df.drop(['row_number', 'customer_id', 'surname'], axis=1)"
   ]
  },
  {
   "cell_type": "markdown",
   "metadata": {},
   "source": [
    "### Мини-вывод\n",
    "\n",
    "На этапе подготовке данных для начала я импортировал данных.После просмотра понял,что: 1)следует привести столбцы к змеиному реестру; 2)пропуски в столбце tenure следует удалить и изменить тип данных; 3)следует удалить столбцы row_number, customer_id, surname, т.к они не пригодятся нам для дальнейшего анализа.\n",
    "\n",
    "После проделанных действий мы можем переходить к исследованию задачи."
   ]
  },
  {
   "cell_type": "markdown",
   "metadata": {},
   "source": [
    "## Исследование задачи"
   ]
  },
  {
   "cell_type": "code",
   "execution_count": 107,
   "metadata": {},
   "outputs": [],
   "source": [
    "gender_ohe = pd.get_dummies(df[\"gender\"], drop_first=True)\n",
    "country_ohe = pd.get_dummies(df[\"geography\"], drop_first=True)\n",
    "df.drop([\"gender\", \"geography\"], axis=1, inplace=True)\n",
    "df_ohe = pd.concat([df, gender_ohe, country_ohe], axis=1)\n",
    "features = df_ohe.drop(['exited'], axis = 1)\n",
    "target = df_ohe['exited']\n",
    "features_train, features_test, target_train, target_test = train_test_split(\n",
    "    features, target, test_size=0.4, random_state=12345)\n",
    "features_test, features_valid, target_test, target_valid = train_test_split(\n",
    "    features_test, target_test, test_size=0.5, random_state=12345)"
   ]
  },
  {
   "cell_type": "markdown",
   "metadata": {},
   "source": [
    "Здесь мы разбили данные в соотношении 3:1:1"
   ]
  },
  {
   "cell_type": "code",
   "execution_count": 109,
   "metadata": {
    "scrolled": true
   },
   "outputs": [
    {
     "data": {
      "text/plain": [
       "'Размер валидационной выборки: (1819, 11)'"
      ]
     },
     "metadata": {},
     "output_type": "display_data"
    },
    {
     "data": {
      "text/plain": [
       "'Размер обучающей выборки: (5454, 11)'"
      ]
     },
     "metadata": {},
     "output_type": "display_data"
    },
    {
     "data": {
      "text/plain": [
       "'Размер тренировочной выборки: (1818, 11)'"
      ]
     },
     "metadata": {},
     "output_type": "display_data"
    }
   ],
   "source": [
    "display(f'Размер валидационной выборки: {features_valid.shape}')\n",
    "display(f'Размер обучающей выборки: {features_train.shape}')\n",
    "display(f'Размер тренировочной выборки: {features_test.shape}')"
   ]
  },
  {
   "cell_type": "code",
   "execution_count": 110,
   "metadata": {},
   "outputs": [],
   "source": [
    "numeric = ['credit_score', 'age','tenure', 'balance', 'num_of_products', 'estimated_salary']\n",
    "scaler = StandardScaler()\n",
    "scaler.fit(features_train[numeric])\n",
    "features_train[numeric] = scaler.transform(features_train[numeric])\n",
    "features_valid[numeric] = scaler.transform(features_valid[numeric])\n",
    "features_test[numeric] = scaler.transform(features_test[numeric])"
   ]
  },
  {
   "cell_type": "code",
   "execution_count": 111,
   "metadata": {},
   "outputs": [],
   "source": [
    "models = {'Логистическая регрессия' : LogisticRegression(solver = 'liblinear', random_state = 12345), \n",
    "              'Случайный лес': RandomForestClassifier(random_state = 12345), \n",
    "              'Решающее дерево': DecisionTreeClassifier(random_state = 12345)}"
   ]
  },
  {
   "cell_type": "code",
   "execution_count": 112,
   "metadata": {},
   "outputs": [
    {
     "data": {
      "text/plain": [
       "'Логистическая регрессия матрица ошибок: [[1427   41]\\n [ 277   74]]'"
      ]
     },
     "metadata": {},
     "output_type": "display_data"
    },
    {
     "data": {
      "text/plain": [
       "'Логистическая регрессия полнота: 0.21082621082621084'"
      ]
     },
     "metadata": {},
     "output_type": "display_data"
    },
    {
     "data": {
      "text/plain": [
       "'Логистическая регрессия точность: 0.6434782608695652'"
      ]
     },
     "metadata": {},
     "output_type": "display_data"
    },
    {
     "data": {
      "text/plain": [
       "'Логистическая регрессия F1-мера: 0.3175965665236052'"
      ]
     },
     "metadata": {},
     "output_type": "display_data"
    },
    {
     "data": {
      "text/plain": [
       "'Логистическая регрессия AUC-ROC: 0.5914485277564296'"
      ]
     },
     "metadata": {},
     "output_type": "display_data"
    },
    {
     "data": {
      "text/plain": [
       "'Случайный лес матрица ошибок: [[1422   46]\\n [ 192  159]]'"
      ]
     },
     "metadata": {},
     "output_type": "display_data"
    },
    {
     "data": {
      "text/plain": [
       "'Случайный лес полнота: 0.452991452991453'"
      ]
     },
     "metadata": {},
     "output_type": "display_data"
    },
    {
     "data": {
      "text/plain": [
       "'Случайный лес точность: 0.775609756097561'"
      ]
     },
     "metadata": {},
     "output_type": "display_data"
    },
    {
     "data": {
      "text/plain": [
       "'Случайный лес F1-мера: 0.5719424460431656'"
      ]
     },
     "metadata": {},
     "output_type": "display_data"
    },
    {
     "data": {
      "text/plain": [
       "'Случайный лес AUC-ROC: 0.7108281515638464'"
      ]
     },
     "metadata": {},
     "output_type": "display_data"
    },
    {
     "data": {
      "text/plain": [
       "'Решающее дерево матрица ошибок: [[1282  186]\\n [ 170  181]]'"
      ]
     },
     "metadata": {},
     "output_type": "display_data"
    },
    {
     "data": {
      "text/plain": [
       "'Решающее дерево полнота: 0.5156695156695157'"
      ]
     },
     "metadata": {},
     "output_type": "display_data"
    },
    {
     "data": {
      "text/plain": [
       "'Решающее дерево точность: 0.49318801089918257'"
      ]
     },
     "metadata": {},
     "output_type": "display_data"
    },
    {
     "data": {
      "text/plain": [
       "'Решающее дерево F1-мера: 0.5041782729805013'"
      ]
     },
     "metadata": {},
     "output_type": "display_data"
    },
    {
     "data": {
      "text/plain": [
       "'Решающее дерево AUC-ROC: 0.6944832591971557'"
      ]
     },
     "metadata": {},
     "output_type": "display_data"
    }
   ],
   "source": [
    "for name, model in models.items():\n",
    "    model = model\n",
    "    model.fit(features_train, target_train)\n",
    "    predicted_valid = model.predict(features_valid)\n",
    "    probabilities_valid = model.predict_proba(features_valid)\n",
    "    probabilities_one_valid = probabilities_valid[:, 1]\n",
    "    auc_roc = roc_auc_score(target_valid, probabilities_one_valid)\n",
    "    display(f'{name} матрица ошибок: {confusion_matrix(target_valid, predicted_valid)}')\n",
    "    display(f'{name} полнота: {recall_score(target_valid, predicted_valid)}')\n",
    "    display(f'{name} точность: {precision_score(target_valid, predicted_valid)}')\n",
    "    display(f'{name} F1-мера: {f1_score(target_valid, predicted_valid)}')\n",
    "    display(f'{name} AUC-ROC: {roc_auc_score(target_valid, predicted_valid)}')"
   ]
  },
  {
   "cell_type": "markdown",
   "metadata": {},
   "source": [
    "### Мини-вывод\n",
    "На этом этапе мы приводили данные в порядок.Для этого мы применили технику OHE, а также разделили данные на выборки в соотношении 3:1:1.После этого мы измерили значение F1-меры и AUC-ROC, и поняли, что размер F1-меры что во всех моделях не подходит нам,так что перейдем к борьбе с дисбалансом."
   ]
  },
  {
   "cell_type": "markdown",
   "metadata": {},
   "source": [
    "## Борьба с дисбалансом"
   ]
  },
  {
   "cell_type": "code",
   "execution_count": 113,
   "metadata": {},
   "outputs": [
    {
     "name": "stdout",
     "output_type": "stream",
     "text": [
      "(15588, 11)\n",
      "(15588,)\n"
     ]
    }
   ],
   "source": [
    "def upsample(features, target, repeat):\n",
    "    \n",
    "    features_zeros = features[target == 0]\n",
    "    features_ones = features[target == 1]\n",
    "    target_zeros = target[target == 0]\n",
    "    target_ones = target[target == 1]\n",
    "    \n",
    "    features_upsampled = pd.concat([features_zeros] + [features_ones] * repeat)\n",
    "    target_upsampled = pd.concat([target_zeros] + [target_ones] * repeat)\n",
    "    \n",
    "    features_upsampled = shuffle(features_upsampled, random_state=12345)\n",
    "    target_upsampled = shuffle(target_upsampled, random_state=12345)\n",
    "    \n",
    "    return features_upsampled, target_upsampled\n",
    "\n",
    "    \n",
    "    \n",
    "features_upsampled, target_upsampled = upsample(features_train, target_train, 10)\n",
    "\n",
    "display(features_upsampled.shape)\n",
    "display(target_upsampled.shape)"
   ]
  },
  {
   "cell_type": "code",
   "execution_count": 124,
   "metadata": {},
   "outputs": [
    {
     "data": {
      "text/plain": [
       "'Логистическая регрессия матрица ошибок: [[511 957]\\n [ 28 323]]'"
      ]
     },
     "metadata": {},
     "output_type": "display_data"
    },
    {
     "data": {
      "text/plain": [
       "'Логистическая регрессия полнота: 0.9202279202279202'"
      ]
     },
     "metadata": {},
     "output_type": "display_data"
    },
    {
     "data": {
      "text/plain": [
       "'Логистическая регрессия точность: 0.25234375'"
      ]
     },
     "metadata": {},
     "output_type": "display_data"
    },
    {
     "data": {
      "text/plain": [
       "'Логистическая регрессия F1-мера: 0.3960760269773145'"
      ]
     },
     "metadata": {},
     "output_type": "display_data"
    },
    {
     "data": {
      "text/plain": [
       "'Логистическая регрессия AUC-ROC: 0.6341602816398457'"
      ]
     },
     "metadata": {},
     "output_type": "display_data"
    },
    {
     "data": {
      "text/plain": [
       "'Случайный лес матрица ошибок: [[1370   98]\\n [ 151  200]]'"
      ]
     },
     "metadata": {},
     "output_type": "display_data"
    },
    {
     "data": {
      "text/plain": [
       "'Случайный лес полнота: 0.5698005698005698'"
      ]
     },
     "metadata": {},
     "output_type": "display_data"
    },
    {
     "data": {
      "text/plain": [
       "'Случайный лес точность: 0.6711409395973155'"
      ]
     },
     "metadata": {},
     "output_type": "display_data"
    },
    {
     "data": {
      "text/plain": [
       "'Случайный лес F1-мера: 0.6163328197226502'"
      ]
     },
     "metadata": {},
     "output_type": "display_data"
    },
    {
     "data": {
      "text/plain": [
       "'Случайный лес AUC-ROC: 0.7515215383062794'"
      ]
     },
     "metadata": {},
     "output_type": "display_data"
    },
    {
     "data": {
      "text/plain": [
       "'Решающее дерево матрица ошибок: [[1271  197]\\n [ 188  163]]'"
      ]
     },
     "metadata": {},
     "output_type": "display_data"
    },
    {
     "data": {
      "text/plain": [
       "'Решающее дерево полнота: 0.46438746438746437'"
      ]
     },
     "metadata": {},
     "output_type": "display_data"
    },
    {
     "data": {
      "text/plain": [
       "'Решающее дерево точность: 0.4527777777777778'"
      ]
     },
     "metadata": {},
     "output_type": "display_data"
    },
    {
     "data": {
      "text/plain": [
       "'Решающее дерево F1-мера: 0.45850914205344584'"
      ]
     },
     "metadata": {},
     "output_type": "display_data"
    },
    {
     "data": {
      "text/plain": [
       "'Решающее дерево AUC-ROC: 0.6650956395506804'"
      ]
     },
     "metadata": {},
     "output_type": "display_data"
    }
   ],
   "source": [
    "for name, model in models.items():\n",
    "    model = model\n",
    "    model.fit(features_upsampled, target_upsampled)\n",
    "    predicted_valid = model.predict(features_valid)\n",
    "    probabilities_valid = model.predict_proba(features_valid)\n",
    "    probabilities_one_valid = probabilities_valid[:, 1]\n",
    "    auc_roc = roc_auc_score(target_valid, probabilities_one_valid)\n",
    "    display(f'{name} матрица ошибок: {confusion_matrix(target_valid, predicted_valid)}')\n",
    "    display(f'{name} полнота: {recall_score(target_valid, predicted_valid)}')\n",
    "    display(f'{name} точность: {precision_score(target_valid, predicted_valid)}')\n",
    "    display(f'{name} F1-мера: {f1_score(target_valid, predicted_valid)}')\n",
    "    display(f'{name} AUC-ROC: {roc_auc_score(target_valid, predicted_valid)}')"
   ]
  },
  {
   "cell_type": "markdown",
   "metadata": {},
   "source": [
    "Лучший результат F1-меры показывает модель случайного леса.Результат равен 0,616"
   ]
  },
  {
   "cell_type": "code",
   "execution_count": 141,
   "metadata": {},
   "outputs": [
    {
     "data": {
      "text/plain": [
       "(1559, 11)"
      ]
     },
     "metadata": {},
     "output_type": "display_data"
    },
    {
     "data": {
      "text/plain": [
       "(1559,)"
      ]
     },
     "metadata": {},
     "output_type": "display_data"
    }
   ],
   "source": [
    "def downsample(features, target, fraction):\n",
    "    features_zeros = features[target == 0]\n",
    "    features_ones = features[target == 1]\n",
    "    target_zeros = target[target == 0]\n",
    "    target_ones = target[target == 1]\n",
    "\n",
    "    features_downsampled = pd.concat(\n",
    "        [features_zeros.sample(frac=fraction, random_state=12345)] + [features_ones])\n",
    "    target_downsampled = pd.concat(\n",
    "        [target_zeros.sample(frac=fraction, random_state=12345)] + [target_ones])\n",
    "    \n",
    "    features_downsampled, target_downsampled = shuffle(\n",
    "        features_downsampled, target_downsampled, random_state=12345)\n",
    "    \n",
    "    return features_downsampled, target_downsampled\n",
    "\n",
    "features_downsampled, target_downsampled = downsample(features_train, target_train, 0.1)\n",
    "\n",
    "display(features_downsampled.shape)\n",
    "display(target_downsampled.shape)"
   ]
  },
  {
   "cell_type": "code",
   "execution_count": 142,
   "metadata": {},
   "outputs": [
    {
     "data": {
      "text/plain": [
       "'Логистическая регрессия матрица ошибок: [[518 950]\\n [ 28 323]]'"
      ]
     },
     "metadata": {},
     "output_type": "display_data"
    },
    {
     "data": {
      "text/plain": [
       "'Логистическая регрессия полнота: 0.9202279202279202'"
      ]
     },
     "metadata": {},
     "output_type": "display_data"
    },
    {
     "data": {
      "text/plain": [
       "'Логистическая регрессия точность: 0.2537313432835821'"
      ]
     },
     "metadata": {},
     "output_type": "display_data"
    },
    {
     "data": {
      "text/plain": [
       "'Логистическая регрессия F1-мера: 0.3977832512315271'"
      ]
     },
     "metadata": {},
     "output_type": "display_data"
    },
    {
     "data": {
      "text/plain": [
       "'Логистическая регрессия AUC-ROC: 0.6365444778251318'"
      ]
     },
     "metadata": {},
     "output_type": "display_data"
    },
    {
     "data": {
      "text/plain": [
       "'Случайный лес матрица ошибок: [[689 779]\\n [ 25 326]]'"
      ]
     },
     "metadata": {},
     "output_type": "display_data"
    },
    {
     "data": {
      "text/plain": [
       "'Случайный лес полнота: 0.9287749287749287'"
      ]
     },
     "metadata": {},
     "output_type": "display_data"
    },
    {
     "data": {
      "text/plain": [
       "'Случайный лес точность: 0.29502262443438915'"
      ]
     },
     "metadata": {},
     "output_type": "display_data"
    },
    {
     "data": {
      "text/plain": [
       "'Случайный лес F1-мера: 0.44780219780219777'"
      ]
     },
     "metadata": {},
     "output_type": "display_data"
    },
    {
     "data": {
      "text/plain": [
       "'Случайный лес AUC-ROC: 0.6990604889106251'"
      ]
     },
     "metadata": {},
     "output_type": "display_data"
    },
    {
     "data": {
      "text/plain": [
       "'Решающее дерево матрица ошибок: [[806 662]\\n [ 64 287]]'"
      ]
     },
     "metadata": {},
     "output_type": "display_data"
    },
    {
     "data": {
      "text/plain": [
       "'Решающее дерево полнота: 0.8176638176638177'"
      ]
     },
     "metadata": {},
     "output_type": "display_data"
    },
    {
     "data": {
      "text/plain": [
       "'Решающее дерево точность: 0.30242360379346683'"
      ]
     },
     "metadata": {},
     "output_type": "display_data"
    },
    {
     "data": {
      "text/plain": [
       "'Решающее дерево F1-мера: 0.44153846153846155'"
      ]
     },
     "metadata": {},
     "output_type": "display_data"
    },
    {
     "data": {
      "text/plain": [
       "'Решающее дерево AUC-ROC: 0.6833550695948516'"
      ]
     },
     "metadata": {},
     "output_type": "display_data"
    }
   ],
   "source": [
    "for name, model in models.items():\n",
    "    model = model\n",
    "    model.fit(features_downsampled, target_downsampled)\n",
    "    predicted_valid = model.predict(features_valid)\n",
    "    probabilities_valid = model.predict_proba(features_valid)\n",
    "    probabilities_one_valid = probabilities_valid[:, 1]\n",
    "    auc_roc = roc_auc_score(target_valid, probabilities_one_valid)\n",
    "    display(f'{name} матрица ошибок: {confusion_matrix(target_valid, predicted_valid)}')\n",
    "    display(f'{name} полнота: {recall_score(target_valid, predicted_valid)}')\n",
    "    display(f'{name} точность: {precision_score(target_valid, predicted_valid)}')\n",
    "    display(f'{name} F1-мера: {f1_score(target_valid, predicted_valid)}')\n",
    "    display(f'{name} AUC-ROC: {roc_auc_score(target_valid, predicted_valid)}')"
   ]
  },
  {
   "cell_type": "markdown",
   "metadata": {},
   "source": [
    "Лучший результат F1-меры показывает модель случайного леса.Результат равен 0,447"
   ]
  },
  {
   "cell_type": "code",
   "execution_count": 126,
   "metadata": {},
   "outputs": [
    {
     "name": "stdout",
     "output_type": "stream",
     "text": [
      "Порог = 0.00 | Точность = 0.493, Полнота = 0.516, F1-мера = 0.504, ROC_AUC = 0.694\n",
      "Порог = 0.02 | Точность = 0.493, Полнота = 0.516, F1-мера = 0.504, ROC_AUC = 0.694\n",
      "Порог = 0.04 | Точность = 0.493, Полнота = 0.516, F1-мера = 0.504, ROC_AUC = 0.694\n",
      "Порог = 0.06 | Точность = 0.493, Полнота = 0.516, F1-мера = 0.504, ROC_AUC = 0.694\n",
      "Порог = 0.08 | Точность = 0.493, Полнота = 0.516, F1-мера = 0.504, ROC_AUC = 0.694\n",
      "Порог = 0.10 | Точность = 0.493, Полнота = 0.516, F1-мера = 0.504, ROC_AUC = 0.694\n",
      "Порог = 0.12 | Точность = 0.493, Полнота = 0.516, F1-мера = 0.504, ROC_AUC = 0.694\n",
      "Порог = 0.14 | Точность = 0.493, Полнота = 0.516, F1-мера = 0.504, ROC_AUC = 0.694\n",
      "Порог = 0.16 | Точность = 0.493, Полнота = 0.516, F1-мера = 0.504, ROC_AUC = 0.694\n",
      "Порог = 0.18 | Точность = 0.493, Полнота = 0.516, F1-мера = 0.504, ROC_AUC = 0.694\n",
      "Порог = 0.20 | Точность = 0.493, Полнота = 0.516, F1-мера = 0.504, ROC_AUC = 0.694\n",
      "Порог = 0.22 | Точность = 0.493, Полнота = 0.516, F1-мера = 0.504, ROC_AUC = 0.694\n",
      "Порог = 0.24 | Точность = 0.493, Полнота = 0.516, F1-мера = 0.504, ROC_AUC = 0.694\n",
      "Порог = 0.26 | Точность = 0.493, Полнота = 0.516, F1-мера = 0.504, ROC_AUC = 0.694\n",
      "Порог = 0.28 | Точность = 0.493, Полнота = 0.516, F1-мера = 0.504, ROC_AUC = 0.694\n",
      "Порог = 0.30 | Точность = 0.493, Полнота = 0.516, F1-мера = 0.504, ROC_AUC = 0.694\n",
      "Порог = 0.32 | Точность = 0.493, Полнота = 0.516, F1-мера = 0.504, ROC_AUC = 0.694\n",
      "Порог = 0.34 | Точность = 0.493, Полнота = 0.516, F1-мера = 0.504, ROC_AUC = 0.694\n",
      "Порог = 0.36 | Точность = 0.493, Полнота = 0.516, F1-мера = 0.504, ROC_AUC = 0.694\n",
      "Порог = 0.38 | Точность = 0.493, Полнота = 0.516, F1-мера = 0.504, ROC_AUC = 0.694\n",
      "Порог = 0.40 | Точность = 0.493, Полнота = 0.516, F1-мера = 0.504, ROC_AUC = 0.694\n",
      "Порог = 0.42 | Точность = 0.493, Полнота = 0.516, F1-мера = 0.504, ROC_AUC = 0.694\n",
      "Порог = 0.44 | Точность = 0.493, Полнота = 0.516, F1-мера = 0.504, ROC_AUC = 0.694\n",
      "Порог = 0.46 | Точность = 0.493, Полнота = 0.516, F1-мера = 0.504, ROC_AUC = 0.694\n",
      "Порог = 0.48 | Точность = 0.493, Полнота = 0.516, F1-мера = 0.504, ROC_AUC = 0.694\n",
      "Порог = 0.50 | Точность = 0.493, Полнота = 0.516, F1-мера = 0.504, ROC_AUC = 0.694\n",
      "Порог = 0.52 | Точность = 0.493, Полнота = 0.516, F1-мера = 0.504, ROC_AUC = 0.694\n",
      "Порог = 0.54 | Точность = 0.493, Полнота = 0.516, F1-мера = 0.504, ROC_AUC = 0.694\n",
      "Порог = 0.56 | Точность = 0.493, Полнота = 0.516, F1-мера = 0.504, ROC_AUC = 0.694\n",
      "Порог = 0.58 | Точность = 0.493, Полнота = 0.516, F1-мера = 0.504, ROC_AUC = 0.694\n",
      "Порог = 0.60 | Точность = 0.493, Полнота = 0.516, F1-мера = 0.504, ROC_AUC = 0.694\n",
      "Порог = 0.62 | Точность = 0.493, Полнота = 0.516, F1-мера = 0.504, ROC_AUC = 0.694\n",
      "Порог = 0.64 | Точность = 0.493, Полнота = 0.516, F1-мера = 0.504, ROC_AUC = 0.694\n",
      "Порог = 0.66 | Точность = 0.493, Полнота = 0.516, F1-мера = 0.504, ROC_AUC = 0.694\n",
      "Порог = 0.68 | Точность = 0.493, Полнота = 0.516, F1-мера = 0.504, ROC_AUC = 0.694\n",
      "Порог = 0.70 | Точность = 0.493, Полнота = 0.516, F1-мера = 0.504, ROC_AUC = 0.694\n",
      "Порог = 0.72 | Точность = 0.493, Полнота = 0.516, F1-мера = 0.504, ROC_AUC = 0.694\n",
      "Порог = 0.74 | Точность = 0.493, Полнота = 0.516, F1-мера = 0.504, ROC_AUC = 0.694\n",
      "Порог = 0.76 | Точность = 0.493, Полнота = 0.516, F1-мера = 0.504, ROC_AUC = 0.694\n",
      "Порог = 0.78 | Точность = 0.493, Полнота = 0.516, F1-мера = 0.504, ROC_AUC = 0.694\n",
      "Порог = 0.80 | Точность = 0.493, Полнота = 0.516, F1-мера = 0.504, ROC_AUC = 0.694\n",
      "Порог = 0.82 | Точность = 0.493, Полнота = 0.516, F1-мера = 0.504, ROC_AUC = 0.694\n",
      "Порог = 0.84 | Точность = 0.493, Полнота = 0.516, F1-мера = 0.504, ROC_AUC = 0.694\n",
      "Порог = 0.86 | Точность = 0.493, Полнота = 0.516, F1-мера = 0.504, ROC_AUC = 0.694\n",
      "Порог = 0.88 | Точность = 0.493, Полнота = 0.516, F1-мера = 0.504, ROC_AUC = 0.694\n",
      "Порог = 0.90 | Точность = 0.493, Полнота = 0.516, F1-мера = 0.504, ROC_AUC = 0.694\n",
      "Порог = 0.92 | Точность = 0.493, Полнота = 0.516, F1-мера = 0.504, ROC_AUC = 0.694\n"
     ]
    },
    {
     "data": {
      "image/png": "[encoded data removed]",
      "text/plain": [
       "<Figure size 432x288 with 1 Axes>"
      ]
     },
     "metadata": {
      "needs_background": "light"
     },
     "output_type": "display_data"
    }
   ],
   "source": [
    "model = DecisionTreeClassifier(random_state=12345)\n",
    "model.fit(features_train, target_train)\n",
    "probabilities_valid = model.predict_proba(features_valid)\n",
    "probabilities_one_valid = probabilities_valid[:, 1]\n",
    "for threshold in np.arange(0, 0.94, 0.02):\n",
    "    predicted_valid = probabilities_one_valid > threshold \n",
    "    precision = precision_score(target_valid, predicted_valid)\n",
    "    recall = recall_score(target_valid, predicted_valid)\n",
    "    f1 = f1_score(target_valid, predicted_valid)\n",
    "    roc_auc = roc_auc_score(target_valid, predicted_valid)\n",
    "    print('Порог = {:.2f} | Точность = {:.3f}, Полнота = {:.3f}, F1-мера = {:.3f}, ROC_AUC = {:.3f}'.format(\n",
    "        threshold, precision, recall, f1, roc_auc))\n",
    "\n",
    "fpr, tpr, thresholds = roc_curve(target_valid, probabilities_one_valid) \n",
    "plt.figure()\n",
    "plt.plot(fpr, tpr)\n",
    "plt.xlim([0.0, 1.0])\n",
    "plt.ylim([0.0, 1.0])\n",
    "plt.xlabel('False Positive Rate')\n",
    "plt.ylabel('True Positive Rate')\n",
    "plt.title('ROC-кривая')\n",
    "plt.show() "
   ]
  },
  {
   "cell_type": "code",
   "execution_count": 127,
   "metadata": {},
   "outputs": [
    {
     "name": "stdout",
     "output_type": "stream",
     "text": [
      "Порог = 0.00 | Точность = 0.203, Полнота = 0.997, F1-мера = 0.338, ROC_AUC = 0.532\n",
      "Порог = 0.02 | Точность = 0.231, Полнота = 0.983, F1-мера = 0.374, ROC_AUC = 0.599\n",
      "Порог = 0.04 | Точность = 0.258, Полнота = 0.966, F1-мера = 0.407, ROC_AUC = 0.651\n",
      "Порог = 0.06 | Точность = 0.282, Полнота = 0.937, F1-мера = 0.434, ROC_AUC = 0.684\n",
      "Порог = 0.08 | Точность = 0.302, Полнота = 0.906, F1-мера = 0.453, ROC_AUC = 0.702\n",
      "Порог = 0.10 | Точность = 0.318, Полнота = 0.883, F1-мера = 0.467, ROC_AUC = 0.715\n",
      "Порог = 0.12 | Точность = 0.342, Полнота = 0.860, F1-мера = 0.490, ROC_AUC = 0.733\n",
      "Порог = 0.14 | Точность = 0.361, Полнота = 0.843, F1-мера = 0.506, ROC_AUC = 0.744\n",
      "Порог = 0.16 | Точность = 0.378, Полнота = 0.826, F1-мера = 0.519, ROC_AUC = 0.751\n",
      "Порог = 0.18 | Точность = 0.397, Полнота = 0.798, F1-мера = 0.530, ROC_AUC = 0.754\n",
      "Порог = 0.20 | Точность = 0.418, Полнота = 0.769, F1-мера = 0.542, ROC_AUC = 0.757\n",
      "Порог = 0.22 | Точность = 0.440, Полнота = 0.735, F1-мера = 0.550, ROC_AUC = 0.755\n",
      "Порог = 0.24 | Точность = 0.469, Полнота = 0.715, F1-мера = 0.567, ROC_AUC = 0.761\n",
      "Порог = 0.26 | Точность = 0.496, Полнота = 0.704, F1-мера = 0.582, ROC_AUC = 0.766\n",
      "Порог = 0.28 | Точность = 0.521, Полнота = 0.695, F1-мера = 0.596, ROC_AUC = 0.771\n",
      "Порог = 0.30 | Точность = 0.535, Полнота = 0.675, F1-мера = 0.597, ROC_AUC = 0.767\n",
      "Порог = 0.32 | Точность = 0.560, Полнота = 0.652, F1-мера = 0.603, ROC_AUC = 0.765\n",
      "Порог = 0.34 | Точность = 0.584, Полнота = 0.632, F1-мера = 0.607, ROC_AUC = 0.762\n",
      "Порог = 0.36 | Точность = 0.615, Полнота = 0.615, F1-мера = 0.615, ROC_AUC = 0.762\n",
      "Порог = 0.38 | Точность = 0.639, Полнота = 0.595, F1-мера = 0.617, ROC_AUC = 0.758\n",
      "Порог = 0.40 | Точность = 0.660, Полнота = 0.570, F1-мера = 0.612, ROC_AUC = 0.750\n",
      "Порог = 0.42 | Точность = 0.679, Полнота = 0.541, F1-мера = 0.602, ROC_AUC = 0.740\n",
      "Порог = 0.44 | Точность = 0.702, Полнота = 0.524, F1-мера = 0.600, ROC_AUC = 0.736\n",
      "Порог = 0.46 | Точность = 0.736, Полнота = 0.507, F1-мера = 0.600, ROC_AUC = 0.732\n",
      "Порог = 0.48 | Точность = 0.766, Полнота = 0.484, F1-мера = 0.593, ROC_AUC = 0.724\n",
      "Порог = 0.50 | Точность = 0.776, Полнота = 0.453, F1-мера = 0.572, ROC_AUC = 0.711\n",
      "Порог = 0.52 | Точность = 0.798, Полнота = 0.427, F1-мера = 0.557, ROC_AUC = 0.701\n",
      "Порог = 0.54 | Точность = 0.807, Полнота = 0.416, F1-мера = 0.549, ROC_AUC = 0.696\n",
      "Порог = 0.56 | Точность = 0.818, Полнота = 0.410, F1-мера = 0.546, ROC_AUC = 0.694\n",
      "Порог = 0.58 | Точность = 0.824, Полнота = 0.387, F1-мера = 0.527, ROC_AUC = 0.684\n",
      "Порог = 0.60 | Точность = 0.838, Полнота = 0.368, F1-мера = 0.511, ROC_AUC = 0.675\n",
      "Порог = 0.62 | Точность = 0.838, Полнота = 0.339, F1-мера = 0.483, ROC_AUC = 0.662\n",
      "Порог = 0.64 | Точность = 0.871, Полнота = 0.308, F1-мера = 0.455, ROC_AUC = 0.648\n",
      "Порог = 0.66 | Точность = 0.868, Полнота = 0.282, F1-мера = 0.426, ROC_AUC = 0.636\n",
      "Порог = 0.68 | Точность = 0.873, Полнота = 0.274, F1-мера = 0.416, ROC_AUC = 0.632\n",
      "Порог = 0.70 | Точность = 0.881, Полнота = 0.254, F1-мера = 0.394, ROC_AUC = 0.623\n",
      "Порог = 0.72 | Точность = 0.882, Полнота = 0.234, F1-мера = 0.369, ROC_AUC = 0.613\n",
      "Порог = 0.74 | Точность = 0.893, Полнота = 0.214, F1-мера = 0.345, ROC_AUC = 0.604\n",
      "Порог = 0.76 | Точность = 0.885, Полнота = 0.197, F1-мера = 0.322, ROC_AUC = 0.595\n",
      "Порог = 0.78 | Точность = 0.890, Полнота = 0.185, F1-мера = 0.307, ROC_AUC = 0.590\n",
      "Порог = 0.80 | Точность = 0.885, Полнота = 0.154, F1-мера = 0.262, ROC_AUC = 0.575\n",
      "Порог = 0.82 | Точность = 0.887, Полнота = 0.134, F1-мера = 0.233, ROC_AUC = 0.565\n",
      "Порог = 0.84 | Точность = 0.930, Полнота = 0.114, F1-мера = 0.203, ROC_AUC = 0.556\n",
      "Порог = 0.86 | Точность = 0.914, Полнота = 0.091, F1-мера = 0.166, ROC_AUC = 0.545\n",
      "Порог = 0.88 | Точность = 0.897, Полнота = 0.074, F1-мера = 0.137, ROC_AUC = 0.536\n",
      "Порог = 0.90 | Точность = 0.938, Полнота = 0.043, F1-мера = 0.082, ROC_AUC = 0.521\n",
      "Порог = 0.92 | Точность = 0.917, Полнота = 0.031, F1-мера = 0.061, ROC_AUC = 0.515\n"
     ]
    },
    {
     "data": {
      "image/png": "[encoded data removed]",
      "text/plain": [
       "<Figure size 432x288 with 1 Axes>"
      ]
     },
     "metadata": {
      "needs_background": "light"
     },
     "output_type": "display_data"
    }
   ],
   "source": [
    "model = RandomForestClassifier(random_state=12345)\n",
    "model.fit(features_train, target_train)\n",
    "probabilities_valid = model.predict_proba(features_valid)\n",
    "probabilities_one_valid = probabilities_valid[:, 1]\n",
    "for threshold in np.arange(0, 0.94, 0.02):\n",
    "    predicted_valid = probabilities_one_valid > threshold \n",
    "    precision = precision_score(target_valid, predicted_valid)\n",
    "    recall = recall_score(target_valid, predicted_valid)\n",
    "    f1 = f1_score(target_valid, predicted_valid)\n",
    "    roc_auc = roc_auc_score(target_valid, predicted_valid)\n",
    "    print('Порог = {:.2f} | Точность = {:.3f}, Полнота = {:.3f}, F1-мера = {:.3f}, ROC_AUC = {:.3f}'.format(\n",
    "        threshold, precision, recall, f1, roc_auc))\n",
    "\n",
    "fpr, tpr, thresholds = roc_curve(target_valid, probabilities_one_valid) \n",
    "plt.figure()\n",
    "plt.plot(fpr, tpr)\n",
    "plt.xlim([0.0, 1.0])\n",
    "plt.ylim([0.0, 1.0])\n",
    "plt.xlabel('False Positive Rate')\n",
    "plt.ylabel('True Positive Rate')\n",
    "plt.title('ROC-кривая')\n",
    "plt.show() "
   ]
  },
  {
   "cell_type": "code",
   "execution_count": 128,
   "metadata": {},
   "outputs": [
    {
     "name": "stdout",
     "output_type": "stream",
     "text": [
      "Порог = 0.00 | Точность = 0.193, Полнота = 1.000, F1-мера = 0.324, ROC_AUC = 0.500\n",
      "Порог = 0.02 | Точность = 0.194, Полнота = 0.997, F1-мера = 0.325, ROC_AUC = 0.503\n",
      "Порог = 0.04 | Точность = 0.204, Полнота = 0.997, F1-мера = 0.338, ROC_AUC = 0.533\n",
      "Порог = 0.06 | Точность = 0.221, Полнота = 0.972, F1-мера = 0.360, ROC_AUC = 0.577\n",
      "Порог = 0.08 | Точность = 0.239, Полнота = 0.940, F1-мера = 0.381, ROC_AUC = 0.612\n",
      "Порог = 0.10 | Точность = 0.262, Полнота = 0.923, F1-мера = 0.408, ROC_AUC = 0.651\n",
      "Порог = 0.12 | Точность = 0.283, Полнота = 0.889, F1-мера = 0.429, ROC_AUC = 0.675\n",
      "Порог = 0.14 | Точность = 0.307, Полнота = 0.855, F1-мера = 0.451, ROC_AUC = 0.696\n",
      "Порог = 0.16 | Точность = 0.335, Полнота = 0.829, F1-мера = 0.477, ROC_AUC = 0.718\n",
      "Порог = 0.18 | Точность = 0.353, Полнота = 0.766, F1-мера = 0.484, ROC_AUC = 0.716\n",
      "Порог = 0.20 | Точность = 0.378, Полнота = 0.729, F1-мера = 0.498, ROC_AUC = 0.721\n",
      "Порог = 0.22 | Точность = 0.386, Полнота = 0.664, F1-мера = 0.488, ROC_AUC = 0.706\n",
      "Порог = 0.24 | Точность = 0.399, Полнота = 0.607, F1-мера = 0.481, ROC_AUC = 0.694\n",
      "Порог = 0.26 | Точность = 0.422, Полнота = 0.570, F1-мера = 0.485, ROC_AUC = 0.692\n",
      "Порог = 0.28 | Точность = 0.440, Полнота = 0.527, F1-мера = 0.480, ROC_AUC = 0.683\n",
      "Порог = 0.30 | Точность = 0.452, Полнота = 0.484, F1-мера = 0.468, ROC_AUC = 0.672\n",
      "Порог = 0.32 | Точность = 0.463, Полнота = 0.450, F1-мера = 0.457, ROC_AUC = 0.663\n",
      "Порог = 0.34 | Точность = 0.483, Полнота = 0.413, F1-мера = 0.445, ROC_AUC = 0.654\n",
      "Порог = 0.36 | Точность = 0.491, Полнота = 0.387, F1-мера = 0.433, ROC_AUC = 0.646\n",
      "Порог = 0.38 | Точность = 0.502, Полнота = 0.342, F1-мера = 0.407, ROC_AUC = 0.630\n",
      "Порог = 0.40 | Точность = 0.505, Полнота = 0.299, F1-мера = 0.376, ROC_AUC = 0.614\n",
      "Порог = 0.42 | Точность = 0.534, Полнота = 0.288, F1-мера = 0.374, ROC_AUC = 0.614\n",
      "Порог = 0.44 | Точность = 0.541, Полнота = 0.265, F1-мера = 0.356, ROC_AUC = 0.606\n",
      "Порог = 0.46 | Точность = 0.570, Полнота = 0.242, F1-мера = 0.340, ROC_AUC = 0.599\n",
      "Порог = 0.48 | Точность = 0.603, Полнота = 0.225, F1-мера = 0.328, ROC_AUC = 0.595\n",
      "Порог = 0.50 | Точность = 0.643, Полнота = 0.211, F1-мера = 0.318, ROC_AUC = 0.591\n",
      "Порог = 0.52 | Точность = 0.663, Полнота = 0.179, F1-мера = 0.283, ROC_AUC = 0.579\n",
      "Порог = 0.54 | Точность = 0.707, Полнота = 0.165, F1-мера = 0.268, ROC_AUC = 0.574\n",
      "Порог = 0.56 | Точность = 0.706, Полнота = 0.137, F1-мера = 0.229, ROC_AUC = 0.562\n",
      "Порог = 0.58 | Точность = 0.705, Полнота = 0.123, F1-мера = 0.209, ROC_AUC = 0.555\n",
      "Порог = 0.60 | Точность = 0.771, Полнота = 0.105, F1-мера = 0.185, ROC_AUC = 0.549\n",
      "Порог = 0.62 | Точность = 0.791, Полнота = 0.097, F1-мера = 0.173, ROC_AUC = 0.545\n",
      "Порог = 0.64 | Точность = 0.824, Полнота = 0.080, F1-мера = 0.145, ROC_AUC = 0.538\n",
      "Порог = 0.66 | Точность = 0.846, Полнота = 0.063, F1-мера = 0.117, ROC_AUC = 0.530\n",
      "Порог = 0.68 | Точность = 0.900, Полнота = 0.051, F1-мера = 0.097, ROC_AUC = 0.525\n",
      "Порог = 0.70 | Точность = 0.889, Полнота = 0.046, F1-мера = 0.087, ROC_AUC = 0.522\n",
      "Порог = 0.72 | Точность = 0.867, Полнота = 0.037, F1-мера = 0.071, ROC_AUC = 0.518\n",
      "Порог = 0.74 | Точность = 0.846, Полнота = 0.031, F1-мера = 0.060, ROC_AUC = 0.515\n",
      "Порог = 0.76 | Точность = 0.818, Полнота = 0.026, F1-мера = 0.050, ROC_AUC = 0.512\n",
      "Порог = 0.78 | Точность = 0.800, Полнота = 0.023, F1-мера = 0.044, ROC_AUC = 0.511\n",
      "Порог = 0.80 | Точность = 0.778, Полнота = 0.020, F1-мера = 0.039, ROC_AUC = 0.509\n",
      "Порог = 0.82 | Точность = 0.714, Полнота = 0.014, F1-мера = 0.028, ROC_AUC = 0.506\n",
      "Порог = 0.84 | Точность = 0.800, Полнота = 0.011, F1-мера = 0.022, ROC_AUC = 0.505\n",
      "Порог = 0.86 | Точность = 0.000, Полнота = 0.000, F1-мера = 0.000, ROC_AUC = 0.500\n",
      "Порог = 0.88 | Точность = 0.000, Полнота = 0.000, F1-мера = 0.000, ROC_AUC = 0.500\n",
      "Порог = 0.90 | Точность = 0.000, Полнота = 0.000, F1-мера = 0.000, ROC_AUC = 0.500\n",
      "Порог = 0.92 | Точность = 0.000, Полнота = 0.000, F1-мера = 0.000, ROC_AUC = 0.500\n"
     ]
    },
    {
     "data": {
      "image/png": "[encoded data removed]",
      "text/plain": [
       "<Figure size 432x288 with 1 Axes>"
      ]
     },
     "metadata": {
      "needs_background": "light"
     },
     "output_type": "display_data"
    }
   ],
   "source": [
    "model = LogisticRegression(random_state=12345, solver='liblinear')\n",
    "model.fit(features_train, target_train)\n",
    "probabilities_valid = model.predict_proba(features_valid)\n",
    "probabilities_one_valid = probabilities_valid[:, 1]\n",
    "for threshold in np.arange(0, 0.94, 0.02):\n",
    "    predicted_valid = probabilities_one_valid > threshold \n",
    "    precision = precision_score(target_valid, predicted_valid)\n",
    "    recall = recall_score(target_valid, predicted_valid)\n",
    "    f1 = f1_score(target_valid, predicted_valid)\n",
    "    roc_auc = roc_auc_score(target_valid, predicted_valid)\n",
    "    print('Порог = {:.2f} | Точность = {:.3f}, Полнота = {:.3f}, F1-мера = {:.3f}, ROC_AUC = {:.3f}'.format(\n",
    "        threshold, precision, recall, f1, roc_auc))\n",
    "\n",
    "fpr, tpr, thresholds = roc_curve(target_valid, probabilities_one_valid) \n",
    "plt.figure()\n",
    "plt.plot(fpr, tpr)\n",
    "plt.xlim([0.0, 1.0])\n",
    "plt.ylim([0.0, 1.0])\n",
    "plt.xlabel('False Positive Rate')\n",
    "plt.ylabel('True Positive Rate')\n",
    "plt.title('ROC-кривая')\n",
    "plt.show() "
   ]
  },
  {
   "cell_type": "markdown",
   "metadata": {},
   "source": [
    "Лучшее значение F1-меры показывает модель Случайного леса при пороге в 0,38."
   ]
  },
  {
   "cell_type": "code",
   "execution_count": 145,
   "metadata": {},
   "outputs": [
    {
     "data": {
      "text/plain": [
       "'Лучший результат F1-меры: 0.5825932504440496, лучший результат AUC-ROC: 0.7051922494701786, глубина: 16'"
      ]
     },
     "metadata": {},
     "output_type": "display_data"
    }
   ],
   "source": [
    "best_result = 0\n",
    "best_depth = 0\n",
    "for depth in range(1, 20):\n",
    "    model = RandomForestClassifier(random_state=12345, n_estimators=est, max_depth=depth)\n",
    "    model.fit(features_train, target_train)\n",
    "    predicted_valid = model.predict(features_valid)\n",
    "    f1 = f1_score(target_valid, predicted_valid)\n",
    "    auc_roc = roc_auc_score(target_valid, predicted_valid)\n",
    "    if f1 > best_result:\n",
    "        best_result = f1\n",
    "        best_depth = depth\n",
    "display(f'Лучший результат F1-меры: {best_result}, лучший результат AUC-ROC: {auc_roc}, глубина: {best_depth}')"
   ]
  },
  {
   "cell_type": "code",
   "execution_count": 146,
   "metadata": {},
   "outputs": [
    {
     "data": {
      "text/plain": [
       "'Лучший результат F1-меры: 0.5876106194690265, лучший результат AUC-ROC: 0.7051922494701786, количество деревьев: 90, глубина: 16'"
      ]
     },
     "metadata": {},
     "output_type": "display_data"
    }
   ],
   "source": [
    "best_result = 0\n",
    "best_est = 0\n",
    "best_depth = 0\n",
    "for est in range(10, 101, 10):\n",
    "    for depth in range(1, 20):\n",
    "        model = RandomForestClassifier(random_state=12345, n_estimators=est, max_depth=depth)\n",
    "        model.fit(features_train, target_train)\n",
    "        predicted_valid = model.predict(features_valid)\n",
    "        f1 = f1_score(target_valid, predicted_valid)\n",
    "        auc_roc = roc_auc_score(target_valid, predicted_valid)\n",
    "        if f1 > best_result:\n",
    "            best_result = f1\n",
    "            best_est = est\n",
    "            best_depth = depth\n",
    "display(f'Лучший результат F1-меры: {best_result}, лучший результат AUC-ROC: {auc_roc}, количество деревьев: {best_est}, глубина: {best_depth}')"
   ]
  },
  {
   "cell_type": "code",
   "execution_count": 147,
   "metadata": {},
   "outputs": [
    {
     "data": {
      "text/plain": [
       "'Лучший результат F1-меры: 0.3175965665236052'"
      ]
     },
     "metadata": {},
     "output_type": "display_data"
    },
    {
     "data": {
      "text/plain": [
       "'Значение AUC-меры, которое нам удалось добиться: 0.5914485277564296'"
      ]
     },
     "metadata": {},
     "output_type": "display_data"
    }
   ],
   "source": [
    "model = LogisticRegression(random_state=12345, solver='liblinear')\n",
    "model.fit(features_train, target_train)\n",
    "predicted_valid = model.predict(features_valid)\n",
    "f1 = f1_score(target_valid, predicted_valid)\n",
    "auc_roc = roc_auc_score(target_valid, predicted_valid)\n",
    "display(f'Лучший результат F1-меры: {f1}')\n",
    "display(f'Значение AUC-меры, которое нам удалось добиться: {auc_roc}')"
   ]
  },
  {
   "cell_type": "markdown",
   "metadata": {},
   "source": [
    "### Мини-вывод\n",
    "В этом этапе мы боролись с дисбалансом. Для этого мы использовали методы upsample и downsample. После анализа мы поняли, что лучше всего в этой борьбе справится метод upsample и модель случайного леса. После этого мы начали подбирать порог классификации, рисовать графики AUC-ROС и подбирать гиперпараметры для всех моделей и пришли к тому, что лучший результат показала модель случайного леса при количестве деревьев=90 и глубине=16, и пороге 0,38."
   ]
  },
  {
   "cell_type": "markdown",
   "metadata": {},
   "source": [
    "## Тестирование модели"
   ]
  },
  {
   "cell_type": "code",
   "execution_count": 149,
   "metadata": {},
   "outputs": [
    {
     "data": {
      "text/plain": [
       "'Значение F1-меры, которое нам удалось добиться: 0.456140350877193'"
      ]
     },
     "metadata": {},
     "output_type": "display_data"
    },
    {
     "data": {
      "text/plain": [
       "'Значение AUC-меры, которое нам удалось добиться: 0.5914485277564296'"
      ]
     },
     "metadata": {},
     "output_type": "display_data"
    }
   ],
   "source": [
    "model = DecisionTreeClassifier(random_state=12345, max_depth=16, class_weight='balanced')\n",
    "model.fit(features_upsampled, target_upsampled)\n",
    "predicted_test = model.predict(features_test)\n",
    "f1 = f1_score(target_test, predicted_test)\n",
    "auc_roc = roc_auc_score(target_valid, predicted_valid)\n",
    "display(f'Значение F1-меры, которое нам удалось добиться: {f1}')\n",
    "display(f'Значение AUC-меры, которое нам удалось добиться: {auc_roc}')"
   ]
  },
  {
   "cell_type": "code",
   "execution_count": 144,
   "metadata": {},
   "outputs": [
    {
     "data": {
      "text/plain": [
       "'Значение F1-меры, которое нам удалось добиться: 0.6092896174863389'"
      ]
     },
     "metadata": {},
     "output_type": "display_data"
    },
    {
     "data": {
      "text/plain": [
       "'Значение AUC-меры, которое нам удалось добиться: 0.6833550695948516'"
      ]
     },
     "metadata": {},
     "output_type": "display_data"
    }
   ],
   "source": [
    "model = RandomForestClassifier(random_state=12345, n_estimators=90, max_depth=16)\n",
    "model.fit(features_upsampled, target_upsampled)\n",
    "predicted_test = model.predict(features_test)\n",
    "f1 = f1_score(target_test, predicted_test)\n",
    "auc_roc = roc_auc_score(target_valid, predicted_valid)\n",
    "display(f'Значение F1-меры, которое нам удалось добиться: {f1}')\n",
    "display(f'Значение AUC-меры, которое нам удалось добиться: {auc_roc}')"
   ]
  },
  {
   "cell_type": "code",
   "execution_count": 150,
   "metadata": {},
   "outputs": [
    {
     "data": {
      "text/plain": [
       "'Значение F1-меры, которое нам удалось добиться: 0.509731232622799'"
      ]
     },
     "metadata": {},
     "output_type": "display_data"
    },
    {
     "data": {
      "text/plain": [
       "'Значение AUC-меры, которое нам удалось добиться: 0.5914485277564296'"
      ]
     },
     "metadata": {},
     "output_type": "display_data"
    }
   ],
   "source": [
    "model = LogisticRegression(random_state=12345, solver='liblinear', class_weight='balanced')\n",
    "model.fit(features_upsampled, target_upsampled)\n",
    "predicted_test = model.predict(features_test)\n",
    "f1 = f1_score(target_test, predicted_test)\n",
    "auc_roc = roc_auc_score(target_valid, predicted_valid)\n",
    "display(f'Значение F1-меры, которое нам удалось добиться: {f1}')\n",
    "display(f'Значение AUC-меры, которое нам удалось добиться: {auc_roc}')"
   ]
  },
  {
   "cell_type": "markdown",
   "metadata": {},
   "source": [
    "# Вывод\n",
    "Нам удалось достичь F1 более 0.59 и AUC-ROC= 0.68 у модели случайного леса. Значения остальных моделей оставляет желать лучшего.Хуже всего справилась модель решающего дерева и показала всего лишь F1=0,45, но значение AUC-ROC у логической регрессии и рещающего дерева,как не странно,равны."
   ]
  }
 ],
 "metadata": {
  "ExecuteTimeLog": [
   {
    "duration": 1552,
    "start_time": "2022-05-31T06:15:51.620Z"
   },
   {
    "duration": 118,
    "start_time": "2022-05-31T06:17:08.525Z"
   },
   {
    "duration": 36,
    "start_time": "2022-05-31T06:17:19.253Z"
   },
   {
    "duration": 9,
    "start_time": "2022-05-31T06:17:57.119Z"
   },
   {
    "duration": 24,
    "start_time": "2022-05-31T06:20:29.125Z"
   },
   {
    "duration": 17,
    "start_time": "2022-05-31T06:23:02.582Z"
   },
   {
    "duration": 140,
    "start_time": "2022-05-31T06:23:41.854Z"
   },
   {
    "duration": 6,
    "start_time": "2022-05-31T06:23:46.091Z"
   },
   {
    "duration": 40,
    "start_time": "2022-05-31T06:27:33.873Z"
   },
   {
    "duration": 63,
    "start_time": "2022-05-31T06:27:40.056Z"
   },
   {
    "duration": 263,
    "start_time": "2022-05-31T06:27:57.842Z"
   },
   {
    "duration": 34,
    "start_time": "2022-05-31T06:28:38.501Z"
   },
   {
    "duration": 36,
    "start_time": "2022-05-31T06:29:27.943Z"
   },
   {
    "duration": 27,
    "start_time": "2022-05-31T06:29:49.198Z"
   },
   {
    "duration": 56,
    "start_time": "2022-05-31T06:42:13.171Z"
   },
   {
    "duration": 17,
    "start_time": "2022-05-31T06:42:13.880Z"
   },
   {
    "duration": 16,
    "start_time": "2022-05-31T06:42:15.089Z"
   },
   {
    "duration": 10,
    "start_time": "2022-05-31T06:42:21.577Z"
   },
   {
    "duration": 18,
    "start_time": "2022-05-31T06:42:22.586Z"
   },
   {
    "duration": 5,
    "start_time": "2022-05-31T06:42:23.997Z"
   },
   {
    "duration": 25,
    "start_time": "2022-05-31T06:42:25.675Z"
   },
   {
    "duration": 5,
    "start_time": "2022-05-31T06:43:28.788Z"
   },
   {
    "duration": 9,
    "start_time": "2022-05-31T06:43:52.488Z"
   },
   {
    "duration": 29,
    "start_time": "2022-05-31T06:46:08.725Z"
   },
   {
    "duration": 13,
    "start_time": "2022-05-31T06:46:22.653Z"
   },
   {
    "duration": 4,
    "start_time": "2022-05-31T06:46:33.090Z"
   },
   {
    "duration": 8,
    "start_time": "2022-05-31T06:55:37.954Z"
   },
   {
    "duration": 15,
    "start_time": "2022-05-31T07:20:20.652Z"
   },
   {
    "duration": 28,
    "start_time": "2022-05-31T07:26:08.750Z"
   },
   {
    "duration": 6,
    "start_time": "2022-05-31T07:26:34.489Z"
   },
   {
    "duration": 749,
    "start_time": "2022-05-31T07:26:40.184Z"
   },
   {
    "duration": 6,
    "start_time": "2022-05-31T07:26:55.700Z"
   },
   {
    "duration": 25,
    "start_time": "2022-05-31T07:27:03.557Z"
   },
   {
    "duration": 4,
    "start_time": "2022-05-31T21:00:40.526Z"
   },
   {
    "duration": 38,
    "start_time": "2022-05-31T21:00:40.930Z"
   },
   {
    "duration": 12,
    "start_time": "2022-05-31T21:00:41.101Z"
   },
   {
    "duration": 11,
    "start_time": "2022-05-31T21:00:41.238Z"
   },
   {
    "duration": 8,
    "start_time": "2022-05-31T21:00:41.538Z"
   },
   {
    "duration": 12,
    "start_time": "2022-05-31T21:00:41.637Z"
   },
   {
    "duration": 3,
    "start_time": "2022-05-31T21:00:41.779Z"
   },
   {
    "duration": 12,
    "start_time": "2022-05-31T21:00:41.917Z"
   },
   {
    "duration": 7,
    "start_time": "2022-05-31T21:00:42.137Z"
   },
   {
    "duration": 4,
    "start_time": "2022-05-31T21:00:42.256Z"
   },
   {
    "duration": 8,
    "start_time": "2022-05-31T21:00:42.780Z"
   },
   {
    "duration": 10,
    "start_time": "2022-05-31T21:00:57.306Z"
   },
   {
    "duration": 15,
    "start_time": "2022-05-31T21:06:10.783Z"
   },
   {
    "duration": 36,
    "start_time": "2022-05-31T21:10:26.340Z"
   },
   {
    "duration": 8,
    "start_time": "2022-05-31T21:10:33.405Z"
   },
   {
    "duration": 11,
    "start_time": "2022-05-31T21:10:34.287Z"
   },
   {
    "duration": 6,
    "start_time": "2022-05-31T21:10:43.064Z"
   },
   {
    "duration": 9,
    "start_time": "2022-05-31T21:20:43.482Z"
   },
   {
    "duration": 4,
    "start_time": "2022-05-31T21:24:17.107Z"
   },
   {
    "duration": 42,
    "start_time": "2022-05-31T21:24:23.712Z"
   },
   {
    "duration": 11,
    "start_time": "2022-05-31T21:25:20.380Z"
   },
   {
    "duration": 4,
    "start_time": "2022-05-31T21:26:11.297Z"
   },
   {
    "duration": 12,
    "start_time": "2022-05-31T21:26:17.181Z"
   },
   {
    "duration": 1180,
    "start_time": "2022-05-31T21:26:26.299Z"
   },
   {
    "duration": 1089,
    "start_time": "2022-06-01T08:30:47.836Z"
   },
   {
    "duration": 123,
    "start_time": "2022-06-01T08:30:50.196Z"
   },
   {
    "duration": 25,
    "start_time": "2022-06-01T08:30:51.007Z"
   },
   {
    "duration": 13,
    "start_time": "2022-06-01T08:30:51.659Z"
   },
   {
    "duration": 7,
    "start_time": "2022-06-01T08:30:52.339Z"
   },
   {
    "duration": 12,
    "start_time": "2022-06-01T08:30:53.021Z"
   },
   {
    "duration": 4,
    "start_time": "2022-06-01T08:30:53.606Z"
   },
   {
    "duration": 16,
    "start_time": "2022-06-01T08:30:54.167Z"
   },
   {
    "duration": 9,
    "start_time": "2022-06-01T08:30:54.715Z"
   },
   {
    "duration": 10,
    "start_time": "2022-06-01T08:30:55.257Z"
   },
   {
    "duration": 11,
    "start_time": "2022-06-01T08:30:57.188Z"
   },
   {
    "duration": 6,
    "start_time": "2022-06-01T08:30:57.793Z"
   },
   {
    "duration": 57,
    "start_time": "2022-06-01T08:30:59.225Z"
   },
   {
    "duration": 2468,
    "start_time": "2022-06-01T08:31:01.795Z"
   },
   {
    "duration": 97,
    "start_time": "2022-06-01T08:33:31.220Z"
   },
   {
    "duration": 30,
    "start_time": "2022-06-01T08:35:04.825Z"
   },
   {
    "duration": 278,
    "start_time": "2022-06-01T08:40:19.464Z"
   },
   {
    "duration": 14,
    "start_time": "2022-06-01T08:40:48.752Z"
   },
   {
    "duration": 390,
    "start_time": "2022-06-01T08:40:57.702Z"
   },
   {
    "duration": 651,
    "start_time": "2022-06-01T08:45:57.943Z"
   },
   {
    "duration": 276,
    "start_time": "2022-06-01T08:46:05.038Z"
   },
   {
    "duration": 118,
    "start_time": "2022-06-01T08:47:59.650Z"
   },
   {
    "duration": 74,
    "start_time": "2022-06-01T08:48:01.279Z"
   },
   {
    "duration": 397,
    "start_time": "2022-06-01T08:48:57.869Z"
   },
   {
    "duration": 399,
    "start_time": "2022-06-01T08:51:30.368Z"
   },
   {
    "duration": 426,
    "start_time": "2022-06-01T08:58:55.809Z"
   },
   {
    "duration": 225,
    "start_time": "2022-06-01T09:00:17.241Z"
   },
   {
    "duration": 88,
    "start_time": "2022-06-01T09:00:29.777Z"
   },
   {
    "duration": 131,
    "start_time": "2022-06-01T09:00:44.835Z"
   },
   {
    "duration": 853,
    "start_time": "2022-06-01T09:01:26.912Z"
   },
   {
    "duration": 64,
    "start_time": "2022-06-01T09:01:42.508Z"
   },
   {
    "duration": 321,
    "start_time": "2022-06-01T09:14:01.722Z"
   },
   {
    "duration": 58,
    "start_time": "2022-06-01T17:39:43.638Z"
   },
   {
    "duration": 1550,
    "start_time": "2022-06-01T17:39:52.125Z"
   },
   {
    "duration": 87,
    "start_time": "2022-06-01T17:39:53.677Z"
   },
   {
    "duration": 20,
    "start_time": "2022-06-01T17:39:53.766Z"
   },
   {
    "duration": 15,
    "start_time": "2022-06-01T17:39:53.789Z"
   },
   {
    "duration": 21,
    "start_time": "2022-06-01T17:39:53.806Z"
   },
   {
    "duration": 43,
    "start_time": "2022-06-01T17:39:53.829Z"
   },
   {
    "duration": 7,
    "start_time": "2022-06-01T17:39:53.874Z"
   },
   {
    "duration": 40,
    "start_time": "2022-06-01T17:39:53.883Z"
   },
   {
    "duration": 30,
    "start_time": "2022-06-01T17:39:53.925Z"
   },
   {
    "duration": 19,
    "start_time": "2022-06-01T17:39:53.958Z"
   },
   {
    "duration": 11,
    "start_time": "2022-06-01T17:39:54.142Z"
   },
   {
    "duration": 7,
    "start_time": "2022-06-01T17:39:54.290Z"
   },
   {
    "duration": 61,
    "start_time": "2022-06-01T17:39:54.618Z"
   },
   {
    "duration": 985,
    "start_time": "2022-06-01T17:39:54.845Z"
   },
   {
    "duration": 115,
    "start_time": "2022-06-01T17:39:58.718Z"
   },
   {
    "duration": 125,
    "start_time": "2022-06-01T17:40:03.409Z"
   },
   {
    "duration": 184,
    "start_time": "2022-06-01T17:40:10.196Z"
   },
   {
    "duration": 535,
    "start_time": "2022-06-01T17:40:22.018Z"
   },
   {
    "duration": 233,
    "start_time": "2022-06-01T17:42:49.559Z"
   },
   {
    "duration": 322,
    "start_time": "2022-06-01T17:43:14.526Z"
   },
   {
    "duration": 308,
    "start_time": "2022-06-01T17:44:04.124Z"
   },
   {
    "duration": 33,
    "start_time": "2022-06-01T17:47:00.286Z"
   },
   {
    "duration": 314,
    "start_time": "2022-06-01T17:49:10.502Z"
   },
   {
    "duration": 18,
    "start_time": "2022-06-01T17:49:16.499Z"
   },
   {
    "duration": 17,
    "start_time": "2022-06-01T17:49:34.256Z"
   },
   {
    "duration": 18763,
    "start_time": "2022-06-01T17:49:53.117Z"
   },
   {
    "duration": 14,
    "start_time": "2022-06-01T17:59:54.966Z"
   },
   {
    "duration": 1294,
    "start_time": "2022-06-01T18:00:39.832Z"
   },
   {
    "duration": 1152,
    "start_time": "2022-06-01T18:02:06.181Z"
   },
   {
    "duration": 5,
    "start_time": "2022-06-01T18:04:35.213Z"
   },
   {
    "duration": 18,
    "start_time": "2022-06-01T18:06:22.265Z"
   },
   {
    "duration": 13,
    "start_time": "2022-06-01T18:06:47.121Z"
   },
   {
    "duration": 14,
    "start_time": "2022-06-01T18:07:14.681Z"
   },
   {
    "duration": 9,
    "start_time": "2022-06-01T18:25:29.208Z"
   },
   {
    "duration": 13,
    "start_time": "2022-06-01T18:25:30.206Z"
   },
   {
    "duration": 14,
    "start_time": "2022-06-01T18:26:58.644Z"
   },
   {
    "duration": 9,
    "start_time": "2022-06-01T18:28:23.255Z"
   },
   {
    "duration": 32,
    "start_time": "2022-06-01T18:28:24.650Z"
   },
   {
    "duration": 6,
    "start_time": "2022-06-01T18:28:29.129Z"
   },
   {
    "duration": 26,
    "start_time": "2022-06-01T18:28:36.446Z"
   },
   {
    "duration": 11,
    "start_time": "2022-06-01T18:30:35.400Z"
   },
   {
    "duration": 11,
    "start_time": "2022-06-01T18:30:59.427Z"
   },
   {
    "duration": 401,
    "start_time": "2022-06-01T18:31:22.779Z"
   },
   {
    "duration": 4,
    "start_time": "2022-06-01T18:31:28.267Z"
   },
   {
    "duration": 40,
    "start_time": "2022-06-01T18:31:29.009Z"
   },
   {
    "duration": 12,
    "start_time": "2022-06-01T18:31:29.272Z"
   },
   {
    "duration": 13,
    "start_time": "2022-06-01T18:31:29.829Z"
   },
   {
    "duration": 10,
    "start_time": "2022-06-01T18:31:30.617Z"
   },
   {
    "duration": 12,
    "start_time": "2022-06-01T18:31:31.754Z"
   },
   {
    "duration": 4,
    "start_time": "2022-06-01T18:31:32.772Z"
   },
   {
    "duration": 18,
    "start_time": "2022-06-01T18:31:33.575Z"
   },
   {
    "duration": 9,
    "start_time": "2022-06-01T18:31:34.492Z"
   },
   {
    "duration": 6,
    "start_time": "2022-06-01T18:31:35.518Z"
   },
   {
    "duration": 374,
    "start_time": "2022-06-01T18:31:37.505Z"
   },
   {
    "duration": 6,
    "start_time": "2022-06-01T18:31:38.617Z"
   },
   {
    "duration": 35,
    "start_time": "2022-06-01T18:31:56.727Z"
   },
   {
    "duration": 8322,
    "start_time": "2022-06-01T18:32:00.093Z"
   },
   {
    "duration": 8120,
    "start_time": "2022-06-01T18:32:22.346Z"
   },
   {
    "duration": 36,
    "start_time": "2022-06-01T18:34:40.466Z"
   },
   {
    "duration": 17,
    "start_time": "2022-06-01T18:34:40.970Z"
   },
   {
    "duration": 12,
    "start_time": "2022-06-01T18:34:41.498Z"
   },
   {
    "duration": 8,
    "start_time": "2022-06-01T18:34:42.040Z"
   },
   {
    "duration": 11,
    "start_time": "2022-06-01T18:34:42.807Z"
   },
   {
    "duration": 4,
    "start_time": "2022-06-01T18:34:43.496Z"
   },
   {
    "duration": 17,
    "start_time": "2022-06-01T18:34:44.373Z"
   },
   {
    "duration": 6,
    "start_time": "2022-06-01T18:34:44.875Z"
   },
   {
    "duration": 267,
    "start_time": "2022-06-01T18:34:46.845Z"
   },
   {
    "duration": 6,
    "start_time": "2022-06-01T18:34:47.881Z"
   },
   {
    "duration": 32,
    "start_time": "2022-06-01T18:34:50.117Z"
   },
   {
    "duration": 7982,
    "start_time": "2022-06-01T18:34:53.454Z"
   },
   {
    "duration": 163,
    "start_time": "2022-06-01T18:38:47.082Z"
   },
   {
    "duration": 180,
    "start_time": "2022-06-01T18:39:12.780Z"
   },
   {
    "duration": 166,
    "start_time": "2022-06-01T18:40:15.414Z"
   },
   {
    "duration": 175,
    "start_time": "2022-06-01T18:41:24.993Z"
   },
   {
    "duration": 13,
    "start_time": "2022-06-01T18:41:30.801Z"
   },
   {
    "duration": 904,
    "start_time": "2022-06-01T18:41:46.726Z"
   },
   {
    "duration": 11,
    "start_time": "2022-06-01T18:42:27.544Z"
   },
   {
    "duration": 159,
    "start_time": "2022-06-01T18:43:07.603Z"
   },
   {
    "duration": 10,
    "start_time": "2022-06-01T18:43:08.848Z"
   },
   {
    "duration": 104,
    "start_time": "2022-06-01T18:43:24.859Z"
   },
   {
    "duration": 11,
    "start_time": "2022-06-01T18:43:25.894Z"
   },
   {
    "duration": 8199,
    "start_time": "2022-06-01T18:44:09.969Z"
   },
   {
    "duration": 3,
    "start_time": "2022-06-01T18:44:28.970Z"
   },
   {
    "duration": 8485,
    "start_time": "2022-06-01T18:44:31.027Z"
   },
   {
    "duration": 10,
    "start_time": "2022-06-01T18:44:48.611Z"
   },
   {
    "duration": 12346,
    "start_time": "2022-06-01T18:44:59.427Z"
   },
   {
    "duration": 209,
    "start_time": "2022-06-01T18:49:02.425Z"
   },
   {
    "duration": 21368,
    "start_time": "2022-06-01T18:49:03.897Z"
   },
   {
    "duration": 422,
    "start_time": "2022-06-01T18:51:50.457Z"
   },
   {
    "duration": 16217,
    "start_time": "2022-06-01T18:56:02.935Z"
   },
   {
    "duration": 16136,
    "start_time": "2022-06-01T18:57:26.327Z"
   },
   {
    "duration": 15881,
    "start_time": "2022-06-01T18:58:18.057Z"
   },
   {
    "duration": 21569,
    "start_time": "2022-06-01T18:59:53.588Z"
   },
   {
    "duration": 64,
    "start_time": "2022-06-01T19:03:40.688Z"
   },
   {
    "duration": 13,
    "start_time": "2022-06-01T19:03:46.978Z"
   },
   {
    "duration": 283998,
    "start_time": "2022-06-01T19:03:59.708Z"
   },
   {
    "duration": 4596,
    "start_time": "2022-06-01T19:10:45.072Z"
   },
   {
    "duration": 4580,
    "start_time": "2022-06-01T19:11:02.794Z"
   },
   {
    "duration": 19469,
    "start_time": "2022-06-01T19:12:08.995Z"
   },
   {
    "duration": 245563,
    "start_time": "2022-06-01T19:17:44.826Z"
   },
   {
    "duration": 275,
    "start_time": "2022-06-01T19:23:31.976Z"
   },
   {
    "duration": 2974,
    "start_time": "2022-06-01T19:24:48.315Z"
   },
   {
    "duration": 2952,
    "start_time": "2022-06-01T19:25:49.712Z"
   },
   {
    "duration": 1125,
    "start_time": "2022-06-01T19:26:16.734Z"
   },
   {
    "duration": 243,
    "start_time": "2022-06-01T19:28:37.347Z"
   },
   {
    "duration": 289,
    "start_time": "2022-06-01T19:30:08.685Z"
   },
   {
    "duration": 122,
    "start_time": "2022-06-01T19:41:18.706Z"
   },
   {
    "duration": 4,
    "start_time": "2022-06-01T19:48:23.655Z"
   },
   {
    "duration": 4,
    "start_time": "2022-06-01T19:49:16.985Z"
   },
   {
    "duration": 37028,
    "start_time": "2022-06-01T19:49:17.077Z"
   },
   {
    "duration": 3,
    "start_time": "2022-06-01T19:50:08.986Z"
   },
   {
    "duration": 4,
    "start_time": "2022-06-01T19:50:41.252Z"
   },
   {
    "duration": 77,
    "start_time": "2022-06-01T20:07:03.122Z"
   },
   {
    "duration": 10,
    "start_time": "2022-06-01T20:07:38.722Z"
   },
   {
    "duration": 52,
    "start_time": "2022-06-01T20:08:40.010Z"
   },
   {
    "duration": 1773,
    "start_time": "2022-06-01T20:08:41.211Z"
   },
   {
    "duration": 49,
    "start_time": "2022-06-01T20:17:48.736Z"
   },
   {
    "duration": 33285,
    "start_time": "2022-06-01T20:18:03.250Z"
   },
   {
    "duration": 1170,
    "start_time": "2022-06-01T20:18:45.581Z"
   },
   {
    "duration": 2008,
    "start_time": "2022-06-01T20:19:21.646Z"
   },
   {
    "duration": 4,
    "start_time": "2022-06-01T20:19:35.071Z"
   },
   {
    "duration": 42206,
    "start_time": "2022-06-01T20:19:39.236Z"
   },
   {
    "duration": 43328,
    "start_time": "2022-06-01T20:21:34.947Z"
   },
   {
    "duration": 43428,
    "start_time": "2022-06-01T20:23:43.063Z"
   },
   {
    "duration": 5,
    "start_time": "2022-06-01T20:30:40.488Z"
   },
   {
    "duration": 3,
    "start_time": "2022-06-01T20:30:41.192Z"
   },
   {
    "duration": 14,
    "start_time": "2022-06-01T20:31:24.534Z"
   },
   {
    "duration": 13,
    "start_time": "2022-06-01T20:32:03.350Z"
   },
   {
    "duration": 639,
    "start_time": "2022-06-01T20:32:30.971Z"
   },
   {
    "duration": 3,
    "start_time": "2022-06-01T20:35:04.421Z"
   },
   {
    "duration": 5,
    "start_time": "2022-06-01T20:35:05.160Z"
   },
   {
    "duration": 599,
    "start_time": "2022-06-01T20:35:05.964Z"
   },
   {
    "duration": 703,
    "start_time": "2022-06-01T20:36:32.035Z"
   },
   {
    "duration": 489,
    "start_time": "2022-06-01T20:36:43.183Z"
   },
   {
    "duration": 554,
    "start_time": "2022-06-01T20:37:19.953Z"
   },
   {
    "duration": 13,
    "start_time": "2022-06-01T20:38:32.708Z"
   },
   {
    "duration": 5,
    "start_time": "2022-06-01T20:38:33.445Z"
   },
   {
    "duration": 13,
    "start_time": "2022-06-01T20:38:50.638Z"
   },
   {
    "duration": 4,
    "start_time": "2022-06-01T20:39:59.393Z"
   },
   {
    "duration": 597,
    "start_time": "2022-06-01T20:40:00.583Z"
   },
   {
    "duration": 4,
    "start_time": "2022-06-01T20:40:12.515Z"
   },
   {
    "duration": 597,
    "start_time": "2022-06-01T20:40:13.209Z"
   },
   {
    "duration": 537,
    "start_time": "2022-06-01T20:41:32.264Z"
   },
   {
    "duration": 1642,
    "start_time": "2022-06-04T09:39:24.915Z"
   },
   {
    "duration": 380,
    "start_time": "2022-06-04T09:39:26.561Z"
   },
   {
    "duration": 27,
    "start_time": "2022-06-04T09:39:26.943Z"
   },
   {
    "duration": 15,
    "start_time": "2022-06-04T09:39:26.973Z"
   },
   {
    "duration": 8,
    "start_time": "2022-06-04T09:39:27.292Z"
   },
   {
    "duration": 12,
    "start_time": "2022-06-04T09:39:28.200Z"
   },
   {
    "duration": 5,
    "start_time": "2022-06-04T09:39:28.792Z"
   },
   {
    "duration": 14,
    "start_time": "2022-06-04T09:39:29.302Z"
   },
   {
    "duration": 13,
    "start_time": "2022-06-04T09:39:29.922Z"
   },
   {
    "duration": 328,
    "start_time": "2022-06-04T09:39:31.581Z"
   },
   {
    "duration": 8,
    "start_time": "2022-06-04T09:39:32.206Z"
   },
   {
    "duration": 51,
    "start_time": "2022-06-04T09:39:32.884Z"
   },
   {
    "duration": 5,
    "start_time": "2022-06-04T09:39:34.807Z"
   },
   {
    "duration": 814,
    "start_time": "2022-06-04T09:39:36.228Z"
   },
   {
    "duration": 7672,
    "start_time": "2022-06-04T09:40:34.784Z"
   },
   {
    "duration": 174,
    "start_time": "2022-06-04T09:41:00.347Z"
   },
   {
    "duration": 20243,
    "start_time": "2022-06-04T09:41:15.444Z"
   },
   {
    "duration": 382,
    "start_time": "2022-06-04T09:43:00.094Z"
   },
   {
    "duration": 184,
    "start_time": "2022-06-04T09:43:26.502Z"
   },
   {
    "duration": 21940,
    "start_time": "2022-06-04T09:45:04.999Z"
   },
   {
    "duration": 437,
    "start_time": "2022-06-04T09:50:38.013Z"
   },
   {
    "duration": 1737,
    "start_time": "2022-06-04T09:54:55.697Z"
   },
   {
    "duration": 25869,
    "start_time": "2022-06-04T09:55:50.600Z"
   },
   {
    "duration": 202,
    "start_time": "2022-06-04T09:56:53.999Z"
   },
   {
    "duration": 6,
    "start_time": "2022-06-04T09:57:21.823Z"
   },
   {
    "duration": 53255,
    "start_time": "2022-06-04T09:57:23.107Z"
   },
   {
    "duration": 99,
    "start_time": "2022-06-04T09:59:33.661Z"
   },
   {
    "duration": 2608,
    "start_time": "2022-06-04T09:59:34.649Z"
   },
   {
    "duration": 17,
    "start_time": "2022-06-04T09:59:58.682Z"
   },
   {
    "duration": 10,
    "start_time": "2022-06-04T09:59:59.355Z"
   },
   {
    "duration": 863,
    "start_time": "2022-06-04T10:00:00.021Z"
   },
   {
    "duration": 5,
    "start_time": "2022-06-04T10:01:02.306Z"
   },
   {
    "duration": 2641,
    "start_time": "2022-06-04T10:01:03.287Z"
   },
   {
    "duration": 22681,
    "start_time": "2022-06-04T10:23:56.980Z"
   },
   {
    "duration": 16,
    "start_time": "2022-06-04T10:27:46.873Z"
   },
   {
    "duration": 3,
    "start_time": "2022-06-04T10:27:47.408Z"
   },
   {
    "duration": 3373,
    "start_time": "2022-06-04T10:27:48.046Z"
   },
   {
    "duration": 702,
    "start_time": "2022-06-04T10:29:09.150Z"
   },
   {
    "duration": 687,
    "start_time": "2022-06-04T10:29:31.064Z"
   },
   {
    "duration": 202,
    "start_time": "2022-06-04T10:29:42.824Z"
   },
   {
    "duration": 5,
    "start_time": "2022-06-04T10:31:52.662Z"
   },
   {
    "duration": 55,
    "start_time": "2022-06-04T10:31:53.556Z"
   },
   {
    "duration": 6657,
    "start_time": "2022-06-04T10:32:37.192Z"
   },
   {
    "duration": 12074,
    "start_time": "2022-06-04T10:32:50.603Z"
   },
   {
    "duration": 100654,
    "start_time": "2022-06-04T10:33:06.592Z"
   },
   {
    "duration": 717,
    "start_time": "2022-06-04T10:36:32.314Z"
   },
   {
    "duration": 13,
    "start_time": "2022-06-04T10:37:17.887Z"
   },
   {
    "duration": 5,
    "start_time": "2022-06-04T10:37:18.398Z"
   },
   {
    "duration": 3266,
    "start_time": "2022-06-04T10:37:19.107Z"
   },
   {
    "duration": 35,
    "start_time": "2022-06-04T10:52:46.102Z"
   },
   {
    "duration": 21,
    "start_time": "2022-06-04T10:52:59.747Z"
   },
   {
    "duration": 784,
    "start_time": "2022-06-04T10:53:06.685Z"
   },
   {
    "duration": 7,
    "start_time": "2022-06-04T10:53:41.245Z"
   },
   {
    "duration": 102,
    "start_time": "2022-06-04T10:53:41.746Z"
   },
   {
    "duration": 23,
    "start_time": "2022-06-04T10:53:42.153Z"
   },
   {
    "duration": 17,
    "start_time": "2022-06-04T10:53:42.717Z"
   },
   {
    "duration": 10,
    "start_time": "2022-06-04T10:53:43.289Z"
   },
   {
    "duration": 15,
    "start_time": "2022-06-04T10:53:43.957Z"
   },
   {
    "duration": 8,
    "start_time": "2022-06-04T10:53:44.623Z"
   },
   {
    "duration": 19,
    "start_time": "2022-06-04T10:53:45.393Z"
   },
   {
    "duration": 12,
    "start_time": "2022-06-04T10:53:45.948Z"
   },
   {
    "duration": 23,
    "start_time": "2022-06-04T10:53:47.806Z"
   },
   {
    "duration": 16,
    "start_time": "2022-06-04T10:54:03.728Z"
   },
   {
    "duration": 55,
    "start_time": "2022-06-04T10:54:11.293Z"
   },
   {
    "duration": 5,
    "start_time": "2022-06-04T10:54:40.890Z"
   },
   {
    "duration": 36,
    "start_time": "2022-06-04T10:54:48.985Z"
   },
   {
    "duration": 37,
    "start_time": "2022-06-04T10:56:09.946Z"
   },
   {
    "duration": 10,
    "start_time": "2022-06-04T10:57:14.094Z"
   },
   {
    "duration": 34,
    "start_time": "2022-06-04T10:57:18.418Z"
   },
   {
    "duration": 900,
    "start_time": "2022-06-04T10:57:29.518Z"
   },
   {
    "duration": 26,
    "start_time": "2022-06-04T10:57:51.323Z"
   },
   {
    "duration": 10,
    "start_time": "2022-06-04T10:58:11.405Z"
   },
   {
    "duration": 17,
    "start_time": "2022-06-04T10:58:14.294Z"
   },
   {
    "duration": 2340,
    "start_time": "2022-06-04T10:58:32.577Z"
   },
   {
    "duration": 10,
    "start_time": "2022-06-04T10:58:52.224Z"
   },
   {
    "duration": 59,
    "start_time": "2022-06-04T10:58:52.930Z"
   },
   {
    "duration": 23,
    "start_time": "2022-06-04T10:58:53.100Z"
   },
   {
    "duration": 23,
    "start_time": "2022-06-04T10:58:53.271Z"
   },
   {
    "duration": 13,
    "start_time": "2022-06-04T10:58:53.442Z"
   },
   {
    "duration": 17,
    "start_time": "2022-06-04T10:58:53.702Z"
   },
   {
    "duration": 7,
    "start_time": "2022-06-04T10:58:54.249Z"
   },
   {
    "duration": 28,
    "start_time": "2022-06-04T10:58:55.154Z"
   },
   {
    "duration": 11,
    "start_time": "2022-06-04T10:58:55.983Z"
   },
   {
    "duration": 24,
    "start_time": "2022-06-04T10:58:58.087Z"
   },
   {
    "duration": 30,
    "start_time": "2022-06-04T10:59:05.494Z"
   },
   {
    "duration": 9,
    "start_time": "2022-06-04T10:59:12.723Z"
   },
   {
    "duration": 116,
    "start_time": "2022-06-04T10:59:13.934Z"
   },
   {
    "duration": 8,
    "start_time": "2022-06-04T10:59:15.222Z"
   },
   {
    "duration": 57,
    "start_time": "2022-06-04T10:59:16.234Z"
   },
   {
    "duration": 21,
    "start_time": "2022-06-04T10:59:37.926Z"
   },
   {
    "duration": 45,
    "start_time": "2022-06-04T11:00:13.814Z"
   },
   {
    "duration": 4,
    "start_time": "2022-06-04T11:00:16.018Z"
   },
   {
    "duration": 48,
    "start_time": "2022-06-04T11:00:16.915Z"
   },
   {
    "duration": 9,
    "start_time": "2022-06-04T11:00:27.702Z"
   },
   {
    "duration": 20,
    "start_time": "2022-06-04T11:00:42.522Z"
   },
   {
    "duration": 9,
    "start_time": "2022-06-04T11:00:57.206Z"
   },
   {
    "duration": 983,
    "start_time": "2022-06-04T11:00:59.018Z"
   },
   {
    "duration": 15,
    "start_time": "2022-06-04T11:01:09.666Z"
   },
   {
    "duration": 58,
    "start_time": "2022-06-04T11:01:09.822Z"
   },
   {
    "duration": 23,
    "start_time": "2022-06-04T11:01:09.971Z"
   },
   {
    "duration": 16,
    "start_time": "2022-06-04T11:01:10.089Z"
   },
   {
    "duration": 13,
    "start_time": "2022-06-04T11:01:10.265Z"
   },
   {
    "duration": 16,
    "start_time": "2022-06-04T11:01:10.478Z"
   },
   {
    "duration": 5,
    "start_time": "2022-06-04T11:01:11.006Z"
   },
   {
    "duration": 19,
    "start_time": "2022-06-04T11:01:11.741Z"
   },
   {
    "duration": 13,
    "start_time": "2022-06-04T11:01:12.751Z"
   },
   {
    "duration": 22,
    "start_time": "2022-06-04T11:01:16.786Z"
   },
   {
    "duration": 32,
    "start_time": "2022-06-04T11:01:19.022Z"
   },
   {
    "duration": 10,
    "start_time": "2022-06-04T11:01:25.107Z"
   },
   {
    "duration": 30,
    "start_time": "2022-06-04T11:01:29.591Z"
   },
   {
    "duration": 7,
    "start_time": "2022-06-04T11:01:30.902Z"
   },
   {
    "duration": 1236,
    "start_time": "2022-06-04T11:01:32.000Z"
   },
   {
    "duration": 18,
    "start_time": "2022-06-04T11:02:38.294Z"
   },
   {
    "duration": 2165,
    "start_time": "2022-06-04T11:03:36.798Z"
   },
   {
    "duration": 414,
    "start_time": "2022-06-04T11:07:54.842Z"
   },
   {
    "duration": 452,
    "start_time": "2022-06-04T11:09:26.399Z"
   },
   {
    "duration": 176,
    "start_time": "2022-06-04T11:09:44.355Z"
   },
   {
    "duration": 550,
    "start_time": "2022-06-04T11:12:54.848Z"
   },
   {
    "duration": 1244,
    "start_time": "2022-06-04T11:14:04.578Z"
   },
   {
    "duration": 159,
    "start_time": "2022-06-04T11:14:36.507Z"
   },
   {
    "duration": 1452,
    "start_time": "2022-06-04T11:15:06.355Z"
   },
   {
    "duration": 701,
    "start_time": "2022-06-04T11:15:21.515Z"
   },
   {
    "duration": 392,
    "start_time": "2022-06-04T12:33:32.824Z"
   },
   {
    "duration": 1496,
    "start_time": "2022-06-04T12:33:46.298Z"
   },
   {
    "duration": 385,
    "start_time": "2022-06-04T12:33:55.443Z"
   },
   {
    "duration": 400,
    "start_time": "2022-06-04T12:34:07.821Z"
   },
   {
    "duration": 989,
    "start_time": "2022-06-04T12:37:44.648Z"
   },
   {
    "duration": 613,
    "start_time": "2022-06-04T12:37:55.329Z"
   },
   {
    "duration": 55791,
    "start_time": "2022-06-04T13:19:15.787Z"
   },
   {
    "duration": 9682,
    "start_time": "2022-06-04T13:26:28.303Z"
   },
   {
    "duration": 21,
    "start_time": "2022-06-04T13:28:00.150Z"
   },
   {
    "duration": 20,
    "start_time": "2022-06-04T13:28:29.323Z"
   },
   {
    "duration": 610,
    "start_time": "2022-06-04T13:31:46.891Z"
   },
   {
    "duration": 580,
    "start_time": "2022-06-04T13:32:15.751Z"
   },
   {
    "duration": 780,
    "start_time": "2022-06-04T13:32:24.119Z"
   },
   {
    "duration": 712,
    "start_time": "2022-06-04T13:35:02.952Z"
   },
   {
    "duration": 695,
    "start_time": "2022-06-04T13:35:14.695Z"
   },
   {
    "duration": 1063,
    "start_time": "2022-06-04T13:37:21.095Z"
   },
   {
    "duration": 1142,
    "start_time": "2022-06-04T13:37:34.321Z"
   },
   {
    "duration": 10,
    "start_time": "2022-06-04T13:52:43.994Z"
   },
   {
    "duration": 20,
    "start_time": "2022-06-04T13:53:58.311Z"
   },
   {
    "duration": 600,
    "start_time": "2022-06-04T13:54:38.401Z"
   },
   {
    "duration": 1236,
    "start_time": "2022-06-04T13:58:11.443Z"
   },
   {
    "duration": 1241,
    "start_time": "2022-06-04T14:00:36.526Z"
   },
   {
    "duration": 10025,
    "start_time": "2022-06-04T14:06:39.897Z"
   },
   {
    "duration": 57882,
    "start_time": "2022-06-04T14:06:56.656Z"
   },
   {
    "duration": 31,
    "start_time": "2022-06-04T14:08:30.502Z"
   },
   {
    "duration": 58,
    "start_time": "2022-06-04T14:36:31.542Z"
   },
   {
    "duration": 86,
    "start_time": "2022-06-04T14:37:14.510Z"
   },
   {
    "duration": 96,
    "start_time": "2022-06-04T14:37:28.448Z"
   }
  ],
  "kernelspec": {
   "display_name": "Python 3 (ipykernel)",
   "language": "python",
   "name": "python3"
  },
  "language_info": {
   "codemirror_mode": {
    "name": "ipython",
    "version": 3
   },
   "file_extension": ".py",
   "mimetype": "text/x-python",
   "name": "python",
   "nbconvert_exporter": "python",
   "pygments_lexer": "ipython3",
   "version": "3.9.7"
  },
  "toc": {
   "base_numbering": 1,
   "nav_menu": {},
   "number_sections": true,
   "sideBar": true,
   "skip_h1_title": true,
   "title_cell": "Содержание",
   "title_sidebar": "Contents",
   "toc_cell": true,
   "toc_position": {
    "height": "calc(100% - 180px)",
    "left": "10px",
    "top": "150px",
    "width": "165px"
   },
   "toc_section_display": true,
   "toc_window_display": true
  }
 },
 "nbformat": 4,
 "nbformat_minor": 2
}
